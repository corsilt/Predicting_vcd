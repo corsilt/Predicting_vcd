{
 "cells": [
  {
   "cell_type": "code",
   "execution_count": 1,
   "metadata": {},
   "outputs": [],
   "source": [
    "import pandas as pd\n",
    "import numpy as np\n",
    "import altair as alt\n",
    "import matplotlib.pyplot as plt\n",
    "#import sklearn\n",
    "from sklearn import tree\n",
    "from sklearn.model_selection import GridSearchCV\n",
    "from sklearn.metrics import classification_report\n",
    "from sklearn.ensemble import GradientBoostingRegressor\n",
    "from sklearn.model_selection import train_test_split\n",
    "from sklearn.linear_model import LinearRegression"
   ]
  },
  {
   "cell_type": "markdown",
   "metadata": {},
   "source": [
    "## PA7 R3 Campaign and Nova data Merge and cleaning"
   ]
  },
  {
   "cell_type": "code",
   "execution_count": 2,
   "metadata": {},
   "outputs": [],
   "source": [
    "df = pd.read_csv('combined.csv',  skiprows=range(0,3625)) # 3626 changes in combined column names\n",
    "df1 = pd.read_csv('combined.csv',  skiprows= range(3625,30000)) # begging of combined older values"
   ]
  },
  {
   "cell_type": "code",
   "execution_count": 3,
   "metadata": {},
   "outputs": [],
   "source": [
    "a = set(df1.columns.to_list())\n",
    "b = set(df.columns.to_list())\n",
    "to_drop = list(a-b)"
   ]
  },
  {
   "cell_type": "code",
   "execution_count": 4,
   "metadata": {},
   "outputs": [],
   "source": [
    "df_ = pd.concat([df1.drop(columns=to_drop), df]) #combine messy data"
   ]
  },
  {
   "cell_type": "code",
   "execution_count": 5,
   "metadata": {},
   "outputs": [],
   "source": [
    "df_ = df_.drop_duplicates()\n",
    "df_ =df_ .dropna(axis=0, thresh=2) # get rid of useless rows"
   ]
  },
  {
   "cell_type": "code",
   "execution_count": 6,
   "metadata": {},
   "outputs": [],
   "source": [
    "'Date & Time'\n",
    "\n",
    "cols = ['Sample ID', 'pH', 'PO2', 'PCO2', 'Gln', 'Glu', 'Gluc',\n",
    "       'Lac', 'NH4+', 'Na+', 'K+', 'Ca++','Osmolality',\n",
    "       'Total Density', 'Viable Density', 'Viability', 'Avg. Live Diameter',\n",
    "       'Cell Inspection Type', 'Vessel ID','Vessel Temperature (oC)', 'Vessel Pressure (psi)',\n",
    "       'PO2 @ Temp', 'PCO2 @ Temp', 'O2 Saturation',\n",
    "       'CO2 Saturation', 'HCO3','Batch ID','Date & Time']"
   ]
  },
  {
   "cell_type": "code",
   "execution_count": 7,
   "metadata": {},
   "outputs": [],
   "source": [
    "df_p = df_[cols].dropna(subset=['Viability'])"
   ]
  },
  {
   "cell_type": "code",
   "execution_count": 8,
   "metadata": {},
   "outputs": [],
   "source": [
    "df_p.rename(columns={'Batch ID':\"Process Lot\"}, inplace=True) # for join later\n",
    "df_p['Process Lot'] = pd.to_numeric(df_p['Process Lot'], errors='coerce', downcast='integer')\n",
    "df_p = df_p.dropna(subset=['Process Lot'])"
   ]
  },
  {
   "cell_type": "code",
   "execution_count": 9,
   "metadata": {},
   "outputs": [],
   "source": [
    "test = df_p.copy()"
   ]
  },
  {
   "cell_type": "markdown",
   "metadata": {},
   "source": [
    "### convert most columns to numeric for later processing\n",
    "dropped ph @ temp due to extreme small values, and pH alone should be good enough"
   ]
  },
  {
   "cell_type": "code",
   "execution_count": 10,
   "metadata": {},
   "outputs": [],
   "source": [
    "cols = ['pH', 'PO2', 'PCO2', 'Gln', 'Glu', 'Gluc',\n",
    "       'Lac', 'NH4+', 'Na+', 'K+', 'Ca++','Osmolality',\n",
    "       'Total Density', 'Viable Density', 'Viability', 'Avg. Live Diameter',\n",
    "        'Vessel ID','Vessel Temperature (oC)', 'Vessel Pressure (psi)',\n",
    "       'PO2 @ Temp', 'PCO2 @ Temp', 'O2 Saturation',\n",
    "       'CO2 Saturation', 'HCO3',]"
   ]
  },
  {
   "cell_type": "code",
   "execution_count": 11,
   "metadata": {},
   "outputs": [
    {
     "name": "stderr",
     "output_type": "stream",
     "text": [
      "<ipython-input-11-872fbd6913bb>:2: FutureWarning: Dropping of nuisance columns in DataFrame reductions (with 'numeric_only=None') is deprecated; in a future version this will raise TypeError.  Select only valid columns before calling the reduction.\n",
      "  test = test.fillna(test.mean())\n"
     ]
    }
   ],
   "source": [
    "test[cols] = test[cols].apply(pd.to_numeric, errors='coerce')\n",
    "test = test.fillna(test.mean())"
   ]
  },
  {
   "cell_type": "code",
   "execution_count": 12,
   "metadata": {},
   "outputs": [],
   "source": [
    "PA7_3K = pd.read_csv('PA7_data_tracker.csv')\n",
    "\n",
    "lots_a = set(PA7_3K['Process Lot'].to_list())\n",
    "lots_b = set(test['Process Lot'].to_list())\n",
    "\n",
    "lots_to_keep = lots_a.intersection(lots_b)"
   ]
  },
  {
   "cell_type": "code",
   "execution_count": 13,
   "metadata": {},
   "outputs": [
    {
     "name": "stderr",
     "output_type": "stream",
     "text": [
      "<ipython-input-13-8250e2c7775c>:3: SettingWithCopyWarning: \n",
      "A value is trying to be set on a copy of a slice from a DataFrame.\n",
      "Try using .loc[row_indexer,col_indexer] = value instead\n",
      "\n",
      "See the caveats in the documentation: https://pandas.pydata.org/pandas-docs/stable/user_guide/indexing.html#returning-a-view-versus-a-copy\n",
      "  final_df['inoc_time']  = final_df['Process Lot'].replace(inoc_dict)\n"
     ]
    }
   ],
   "source": [
    "inoc_dict = dict(zip(PA7_3K['Process Lot'], PA7_3K['dummy'])) # for getting inoc start/end times for each lot\n",
    "final_df = test[test['Process Lot'].isin(lots_to_keep)]\n",
    "final_df['inoc_time']  = final_df['Process Lot'].replace(inoc_dict) "
   ]
  },
  {
   "cell_type": "code",
   "execution_count": 14,
   "metadata": {},
   "outputs": [],
   "source": [
    "# test[test['Process Lot'] == 8044300268]"
   ]
  },
  {
   "cell_type": "code",
   "execution_count": 15,
   "metadata": {},
   "outputs": [],
   "source": [
    "throw_away_lots = list(final_df[final_df['inoc_time'].isnull()]['Process Lot'].unique()) # 12 numbers for lot numbers\n",
    "final_df = final_df[~final_df['Process Lot'].isin(throw_away_lots)]"
   ]
  },
  {
   "cell_type": "markdown",
   "metadata": {},
   "source": [
    "### 58 Production Lots (PA7 R3)"
   ]
  },
  {
   "cell_type": "code",
   "execution_count": 16,
   "metadata": {},
   "outputs": [
    {
     "data": {
      "text/plain": [
       "58"
      ]
     },
     "execution_count": 16,
     "metadata": {},
     "output_type": "execute_result"
    }
   ],
   "source": [
    "len(final_df['Process Lot'].unique())"
   ]
  },
  {
   "cell_type": "markdown",
   "metadata": {},
   "source": [
    "### correct inoc time for errant Lot 8044300344"
   ]
  },
  {
   "cell_type": "code",
   "execution_count": 17,
   "metadata": {},
   "outputs": [],
   "source": [
    "final_df.reset_index(inplace=True)\n",
    "idxs = list(final_df[final_df['Process Lot'] == 8044300344 ].index)\n",
    "final_df.iloc[[idxs], [-1]] = '2019-10-26 09:25:00'"
   ]
  },
  {
   "cell_type": "code",
   "execution_count": 18,
   "metadata": {},
   "outputs": [],
   "source": [
    "final_df['Date & Time'] = pd.to_datetime(final_df['Date & Time'])\n",
    "final_df['inoc_time'] = pd.to_datetime(final_df['inoc_time'])"
   ]
  },
  {
   "cell_type": "markdown",
   "metadata": {},
   "source": [
    "### Cell Culture duration calculation"
   ]
  },
  {
   "cell_type": "code",
   "execution_count": 19,
   "metadata": {},
   "outputs": [],
   "source": [
    "final_df['CC_duration'] = final_df['Date & Time'] - final_df['inoc_time']\n",
    "final_df['duration'] = final_df['CC_duration'] / np.timedelta64(1, 'h')"
   ]
  },
  {
   "cell_type": "markdown",
   "metadata": {},
   "source": [
    "### REGN668 R3 IM: 80443"
   ]
  },
  {
   "cell_type": "code",
   "execution_count": 20,
   "metadata": {},
   "outputs": [],
   "source": [
    "final_df = final_df[final_df['Process Lot'].astype(str).str[0:5].eq('80443')]"
   ]
  },
  {
   "cell_type": "code",
   "execution_count": 21,
   "metadata": {},
   "outputs": [],
   "source": [
    "final_df.rename(columns={\"Process Lot\":'Process_lot',\n",
    "                        'Viable Density':'VCD'}, inplace=True) "
   ]
  },
  {
   "cell_type": "code",
   "execution_count": 22,
   "metadata": {},
   "outputs": [],
   "source": [
    "final_df.drop(columns=['CC_duration'],inplace=True)"
   ]
  },
  {
   "cell_type": "code",
   "execution_count": 23,
   "metadata": {},
   "outputs": [],
   "source": [
    "\n",
    "chart = alt.Chart(final_df).mark_circle(size=60).encode(\n",
    "    alt.X('duration', title='Cell Culture Duration (Hrs)'),\n",
    "    alt.Y('VCD',title='Viable Cell Density x 10 ^5'),\n",
    "    color= 'Process_lot:N',\n",
    "    tooltip = ['Process_lot', 'VCD', 'duration']\n",
    "\n",
    ").properties(\n",
    "    width=840,\n",
    "    height=400,\n",
    "    title='PA7 R3 668 Historical VCD Growth'\n",
    ")\n",
    "\n",
    "\n",
    "# chart.interactive()"
   ]
  },
  {
   "cell_type": "markdown",
   "metadata": {},
   "source": [
    "## Drop errant value"
   ]
  },
  {
   "cell_type": "code",
   "execution_count": 24,
   "metadata": {},
   "outputs": [],
   "source": [
    "final_df.drop(axis=0, index=206, inplace=True)"
   ]
  },
  {
   "cell_type": "code",
   "execution_count": 25,
   "metadata": {},
   "outputs": [],
   "source": [
    "# issue with duration 8044300344\n",
    "\n",
    "df = pd.DataFrame({\n",
    "    'x': [44.57, 68.7, 44.57, 68.7],\n",
    "    'y': [33.08, 33.08,  42.04, 42.04],\n",
    "    'class': ['A', 'A','B', 'B']\n",
    "})\n",
    "\n",
    "\n",
    "a = alt.Chart(df).mark_line(color='red', strokeDash=[3,5]).encode(\n",
    "    x='x',\n",
    "    y='y',\n",
    "    detail='class'\n",
    ")\n",
    "\n",
    "# (chart+a).interactive()"
   ]
  },
  {
   "cell_type": "markdown",
   "metadata": {},
   "source": [
    "## Evaluating Feature Importance via Mutual information"
   ]
  },
  {
   "cell_type": "code",
   "execution_count": 26,
   "metadata": {},
   "outputs": [],
   "source": [
    "# df = df.apply(pd.to_numeric, errors='coerce')"
   ]
  },
  {
   "cell_type": "code",
   "execution_count": 27,
   "metadata": {},
   "outputs": [
    {
     "data": {
      "text/plain": [
       "0      72.6\n",
       "1      53.9\n",
       "2      24.2\n",
       "3      24.2\n",
       "4      63.0\n",
       "       ... \n",
       "221    75.9\n",
       "222    49.6\n",
       "223    20.5\n",
       "224    21.1\n",
       "225    23.3\n",
       "Name: PCO2 @ Temp, Length: 225, dtype: float64"
      ]
     },
     "execution_count": 27,
     "metadata": {},
     "output_type": "execute_result"
    }
   ],
   "source": [
    "X = final_df.copy().select_dtypes(np.number)\n",
    "y = X.pop(\"VCD\") # label\n",
    "X.pop('PO2 @ Temp') # inf values\n",
    "X.pop('PCO2 @ Temp')\n"
   ]
  },
  {
   "cell_type": "code",
   "execution_count": 28,
   "metadata": {},
   "outputs": [
    {
     "data": {
      "text/plain": [
       "Total Density    3.824914\n",
       "HCO3             1.263460\n",
       "NH4+             1.120099\n",
       "PO2              0.710171\n",
       "Gln              0.389724\n",
       "Glu              0.243953\n",
       "Process_lot      0.162001\n",
       "Vessel ID        0.004013\n",
       "Name: MI Scores, dtype: float64"
      ]
     },
     "execution_count": 28,
     "metadata": {},
     "output_type": "execute_result"
    }
   ],
   "source": [
    "from sklearn.feature_selection import mutual_info_regression\n",
    "\n",
    "def make_mi_scores(X, y):\n",
    "    mi_scores = mutual_info_regression(X, y)\n",
    "    mi_scores = pd.Series(mi_scores, name=\"MI Scores\", index=X.columns)\n",
    "    mi_scores = mi_scores.sort_values(ascending=False)\n",
    "    return mi_scores\n",
    "\n",
    "mi_scores = make_mi_scores(X, y)\n",
    "mi_scores[::3]  # show a few features with their MI scores"
   ]
  },
  {
   "cell_type": "code",
   "execution_count": 29,
   "metadata": {},
   "outputs": [
    {
     "data": {
      "image/png": "[encoded data removed]",
      "text/plain": [
       "<Figure size 800x500 with 1 Axes>"
      ]
     },
     "metadata": {
      "needs_background": "light"
     },
     "output_type": "display_data"
    }
   ],
   "source": [
    "import matplotlib.pyplot as plt\n",
    "%matplotlib inline\n",
    "def plot_mi_scores(scores):\n",
    "    import matplotlib.pyplot as plt\n",
    "    scores = scores.sort_values(ascending=True)\n",
    "    width = np.arange(len(scores))\n",
    "    ticks = list(scores.index)\n",
    "    plt.barh(width, scores)\n",
    "    plt.yticks(width, ticks)\n",
    "    plt.title(\"Mutual Information Scores\")\n",
    "\n",
    "\n",
    "plt.figure(dpi=100, figsize=(8, 5))\n",
    "plot_mi_scores(mi_scores)"
   ]
  },
  {
   "cell_type": "markdown",
   "metadata": {},
   "source": [
    "### Remove data leakage variable (Total Density)"
   ]
  },
  {
   "cell_type": "code",
   "execution_count": 30,
   "metadata": {},
   "outputs": [
    {
     "data": {
      "text/plain": [
       "Index(['index', 'pH', 'PO2', 'PCO2', 'Gln', 'Glu', 'Gluc', 'Lac', 'NH4+',\n",
       "       'Na+', 'K+', 'Ca++', 'Osmolality', 'Total Density', 'Viability',\n",
       "       'Avg. Live Diameter', 'Vessel ID', 'Vessel Temperature (oC)',\n",
       "       'Vessel Pressure (psi)', 'O2 Saturation', 'CO2 Saturation', 'HCO3',\n",
       "       'Process_lot', 'duration'],\n",
       "      dtype='object')"
      ]
     },
     "execution_count": 30,
     "metadata": {},
     "output_type": "execute_result"
    }
   ],
   "source": [
    "X.columns"
   ]
  },
  {
   "cell_type": "code",
   "execution_count": 31,
   "metadata": {},
   "outputs": [],
   "source": [
    "X = final_df.copy().select_dtypes(np.number).drop(columns='Total Density')\n",
    "y = X.pop(\"VCD\")\n",
    "X.pop('PCO2 @ Temp')\n",
    "X.pop('PO2 @ Temp')\n",
    "mi_scores = make_mi_scores(X, y)"
   ]
  },
  {
   "cell_type": "code",
   "execution_count": 32,
   "metadata": {},
   "outputs": [
    {
     "data": {
      "image/png": "[encoded data removed]",
      "text/plain": [
       "<Figure size 800x500 with 1 Axes>"
      ]
     },
     "metadata": {
      "needs_background": "light"
     },
     "output_type": "display_data"
    }
   ],
   "source": [
    "plt.figure(dpi=100, figsize=(8, 5))\n",
    "plot_mi_scores(mi_scores)"
   ]
  },
  {
   "cell_type": "code",
   "execution_count": 33,
   "metadata": {},
   "outputs": [
    {
     "data": {
      "text/plain": [
       "Lac               1.446996\n",
       "Osmolality        1.284921\n",
       "HCO3              1.267450\n",
       "duration          1.246421\n",
       "Gluc              1.236459\n",
       "NH4+              1.128837\n",
       "CO2 Saturation    1.066296\n",
       "PCO2              1.047710\n",
       "pH                0.708126\n",
       "PO2               0.707430\n",
       "Name: MI Scores, dtype: float64"
      ]
     },
     "execution_count": 33,
     "metadata": {},
     "output_type": "execute_result"
    }
   ],
   "source": [
    "mi_scores[0:10]"
   ]
  },
  {
   "cell_type": "code",
   "execution_count": 34,
   "metadata": {},
   "outputs": [],
   "source": [
    "\n",
    "X_train, X_test, y_train, y_test = train_test_split(X, y, random_state=0)"
   ]
  },
  {
   "cell_type": "code",
   "execution_count": 35,
   "metadata": {},
   "outputs": [],
   "source": [
    "def boost_regress():\n",
    "    from sklearn.ensemble import GradientBoostingClassifier\n",
    "    results = []\n",
    "    #for i in range(1,11):\n",
    "\n",
    "    clf = GradientBoostingRegressor(random_state=0,).fit(X_train, y_train)\n",
    "\n",
    "    results = (clf.score(X_train, y_train), clf.score(X_test, y_test))\n",
    "    return results"
   ]
  },
  {
   "cell_type": "code",
   "execution_count": 36,
   "metadata": {},
   "outputs": [
    {
     "data": {
      "text/plain": [
       "(0.999099071319468, 0.9644150281715027)"
      ]
     },
     "execution_count": 36,
     "metadata": {},
     "output_type": "execute_result"
    }
   ],
   "source": [
    "boost_regress()"
   ]
  },
  {
   "cell_type": "code",
   "execution_count": 37,
   "metadata": {},
   "outputs": [
    {
     "data": {
      "text/plain": [
       "array([31.17647383, 37.70781621,  5.16027468, 22.44367908, 18.50163622,\n",
       "        6.0940411 , 27.73909024, 14.92385137, 44.30742798,  5.62107246,\n",
       "       35.84021674, 17.70964501, 31.50726306,  6.30512919, 34.09807129,\n",
       "       13.62188069, 41.07353107, 15.3803172 , 16.90617661, 37.1123064 ,\n",
       "       34.8820506 , 27.28538896, 26.03539589, 35.61301185, 16.35676696,\n",
       "        7.4256426 , 39.42227979, 32.80685678, 17.90378361,  5.78250624,\n",
       "       12.17766902, 31.10534678, 32.63381963, 15.24396344, 18.31214238,\n",
       "        6.28741529,  6.47467251, 28.87491528, 36.15892629, 36.06454202,\n",
       "       23.55989155, 30.05737793,  6.93459555, 17.33720707, 30.23377388,\n",
       "       39.37667527,  7.03697822, 29.29488301, 45.75676596, 38.71318198,\n",
       "        5.35985967, 16.3179515 ,  5.72164978,  6.60794525, 14.77267363,\n",
       "       16.72904332, 33.56772146])"
      ]
     },
     "execution_count": 37,
     "metadata": {},
     "output_type": "execute_result"
    }
   ],
   "source": [
    "clf = GradientBoostingRegressor(random_state=0,).fit(X_train, y_train)\n",
    "\n",
    "clf.predict(X_test)"
   ]
  },
  {
   "cell_type": "markdown",
   "metadata": {},
   "source": [
    "### Organizing Predicted vs Actual VCD values For plotting"
   ]
  },
  {
   "cell_type": "code",
   "execution_count": 38,
   "metadata": {},
   "outputs": [],
   "source": [
    "pred = pd.DataFrame({'type': 'predicted',\n",
    "                    \"VCD\":clf.predict(X_test),\n",
    "                    'duration': X_test['duration']})\n",
    "actual = pd.DataFrame({'type': 'actual',\n",
    "                    \"VCD\":y_test,\n",
    "                    'duration': X_test['duration']})\n",
    "\n",
    "to_plot = pd.concat([pred,actual])\n",
    "to_plot['Process_lot'] = X_test['Process_lot']"
   ]
  },
  {
   "cell_type": "code",
   "execution_count": 39,
   "metadata": {},
   "outputs": [],
   "source": [
    "chart2 = alt.Chart(to_plot).mark_circle(size=60,).encode(\n",
    "    alt.X('duration', title='Cell Culture Duration (Hrs)'),\n",
    "    alt.Y('VCD',title='Viable Cell Density x 10 ^5'),\n",
    "    color = 'type',\n",
    "    tooltip = [\"type\", 'VCD', 'duration','Process_lot']\n",
    "\n",
    ").properties(\n",
    "    width=840,\n",
    "    height=400,\n",
    "    title='GradientBoostingRegressor Predictions vs actual'\n",
    ").interactive()"
   ]
  },
  {
   "cell_type": "code",
   "execution_count": 40,
   "metadata": {},
   "outputs": [
    {
     "data": {
      "text/html": [
       "\n",
       "<div id=\"altair-viz-bed7fdb94af9463f9b1cf4b5ec8ff621\"></div>\n",
       "<script type=\"text/javascript\">\n",
       "  (function(spec, embedOpt){\n",
       "    let outputDiv = document.currentScript.previousElementSibling;\n",
       "    if (outputDiv.id !== \"altair-viz-bed7fdb94af9463f9b1cf4b5ec8ff621\") {\n",
       "      outputDiv = document.getElementById(\"altair-viz-bed7fdb94af9463f9b1cf4b5ec8ff621\");\n",
       "    }\n",
       "    const paths = {\n",
       "      \"vega\": \"https://cdn.jsdelivr.net/npm//vega@5?noext\",\n",
       "      \"vega-lib\": \"https://cdn.jsdelivr.net/npm//vega-lib?noext\",\n",
       "      \"vega-lite\": \"https://cdn.jsdelivr.net/npm//vega-lite@4.8.1?noext\",\n",
       "      \"vega-embed\": \"https://cdn.jsdelivr.net/npm//vega-embed@6?noext\",\n",
       "    };\n",
       "\n",
       "    function loadScript(lib) {\n",
       "      return new Promise(function(resolve, reject) {\n",
       "        var s = document.createElement('script');\n",
       "        s.src = paths[lib];\n",
       "        s.async = true;\n",
       "        s.onload = () => resolve(paths[lib]);\n",
       "        s.onerror = () => reject(`Error loading script: ${paths[lib]}`);\n",
       "        document.getElementsByTagName(\"head\")[0].appendChild(s);\n",
       "      });\n",
       "    }\n",
       "\n",
       "    function showError(err) {\n",
       "      outputDiv.innerHTML = `<div class=\"error\" style=\"color:red;\">${err}</div>`;\n",
       "      throw err;\n",
       "    }\n",
       "\n",
       "    function displayChart(vegaEmbed) {\n",
       "      vegaEmbed(outputDiv, spec, embedOpt)\n",
       "        .catch(err => showError(`Javascript Error: ${err.message}<br>This usually means there's a typo in your chart specification. See the javascript console for the full traceback.`));\n",
       "    }\n",
       "\n",
       "    if(typeof define === \"function\" && define.amd) {\n",
       "      requirejs.config({paths});\n",
       "      require([\"vega-embed\"], displayChart, err => showError(`Error loading script: ${err.message}`));\n",
       "    } else if (typeof vegaEmbed === \"function\") {\n",
       "      displayChart(vegaEmbed);\n",
       "    } else {\n",
       "      loadScript(\"vega\")\n",
       "        .then(() => loadScript(\"vega-lite\"))\n",
       "        .then(() => loadScript(\"vega-embed\"))\n",
       "        .catch(showError)\n",
       "        .then(() => displayChart(vegaEmbed));\n",
       "    }\n",
       "  })({\"config\": {\"view\": {\"continuousWidth\": 400, \"continuousHeight\": 300}}, \"data\": {\"name\": \"data-913275a037ddb28de983af61dec94764\"}, \"mark\": {\"type\": \"circle\", \"size\": 60}, \"encoding\": {\"color\": {\"type\": \"nominal\", \"field\": \"type\"}, \"tooltip\": [{\"type\": \"nominal\", \"field\": \"type\"}, {\"type\": \"quantitative\", \"field\": \"VCD\"}, {\"type\": \"quantitative\", \"field\": \"duration\"}, {\"type\": \"quantitative\", \"field\": \"Process_lot\"}], \"x\": {\"type\": \"quantitative\", \"field\": \"duration\", \"title\": \"Cell Culture Duration (Hrs)\"}, \"y\": {\"type\": \"quantitative\", \"field\": \"VCD\", \"title\": \"Viable Cell Density x 10 ^5\"}}, \"height\": 400, \"selection\": {\"selector001\": {\"type\": \"interval\", \"bind\": \"scales\", \"encodings\": [\"x\", \"y\"]}}, \"title\": \"GradientBoostingRegressor Predictions vs actual\", \"width\": 840, \"$schema\": \"https://vega.github.io/schema/vega-lite/v4.8.1.json\", \"datasets\": {\"data-913275a037ddb28de983af61dec94764\": [{\"type\": \"predicted\", \"VCD\": 31.176473834002184, \"duration\": 43.098333333333336, \"Process_lot\": 8044300290.0}, {\"type\": \"predicted\", \"VCD\": 37.707816208590444, \"duration\": 50.98, \"Process_lot\": 8044300285.0}, {\"type\": \"predicted\", \"VCD\": 5.160274675020867, \"duration\": 0.5613888888888889, \"Process_lot\": 8044300352.0}, {\"type\": \"predicted\", \"VCD\": 22.443679077097297, \"duration\": 41.38055555555555, \"Process_lot\": 8044300344.0}, {\"type\": \"predicted\", \"VCD\": 18.50163621719874, \"duration\": 24.621111111111112, \"Process_lot\": 8044300273.0}, {\"type\": \"predicted\", \"VCD\": 6.094041095247443, \"duration\": 0.3788888888888889, \"Process_lot\": 8044300267.0}, {\"type\": \"predicted\", \"VCD\": 27.73909024498846, \"duration\": 43.59388888888889, \"Process_lot\": 8044300320.0}, {\"type\": \"predicted\", \"VCD\": 14.923851366717852, \"duration\": 22.324444444444445, \"Process_lot\": 8044300318.0}, {\"type\": \"predicted\", \"VCD\": 44.30742797806385, \"duration\": 64.60277777777777, \"Process_lot\": 8044300549.0}, {\"type\": \"predicted\", \"VCD\": 5.6210724567806185, \"duration\": 0.2652777777777778, \"Process_lot\": 8044300334.0}, {\"type\": \"predicted\", \"VCD\": 35.84021673694743, \"duration\": 52.028055555555554, \"Process_lot\": 8044300319.0}, {\"type\": \"predicted\", \"VCD\": 17.709645014395367, \"duration\": 25.989722222222223, \"Process_lot\": 8044300329.0}, {\"type\": \"predicted\", \"VCD\": 31.507263060191697, \"duration\": 43.0275, \"Process_lot\": 8044300289.0}, {\"type\": \"predicted\", \"VCD\": 6.305129189453804, \"duration\": 0.22083333333333333, \"Process_lot\": 8044300228.0}, {\"type\": \"predicted\", \"VCD\": 34.098071291289074, \"duration\": 43.33861111111111, \"Process_lot\": 8044300309.0}, {\"type\": \"predicted\", \"VCD\": 13.621880694847363, \"duration\": 23.60611111111111, \"Process_lot\": 8044300327.0}, {\"type\": \"predicted\", \"VCD\": 41.07353106758499, \"duration\": 54.15027777777778, \"Process_lot\": 8044300289.0}, {\"type\": \"predicted\", \"VCD\": 15.380317198197409, \"duration\": 23.733055555555556, \"Process_lot\": 8044300226.0}, {\"type\": \"predicted\", \"VCD\": 16.90617660848135, \"duration\": 24.03611111111111, \"Process_lot\": 8044300260.0}, {\"type\": \"predicted\", \"VCD\": 37.11230640226483, \"duration\": 49.731944444444444, \"Process_lot\": 8044300318.0}, {\"type\": \"predicted\", \"VCD\": 34.88205059662515, \"duration\": 52.158055555555556, \"Process_lot\": 8044300336.0}, {\"type\": \"predicted\", \"VCD\": 27.2853889622928, \"duration\": 43.33777777777778, \"Process_lot\": 8044300322.0}, {\"type\": \"predicted\", \"VCD\": 26.035395892739174, \"duration\": 43.07277777777778, \"Process_lot\": 8044300345.0}, {\"type\": \"predicted\", \"VCD\": 35.61301184837895, \"duration\": 54.23722222222222, \"Process_lot\": 8044300337.0}, {\"type\": \"predicted\", \"VCD\": 16.356766959193145, \"duration\": 24.13, \"Process_lot\": 8044300289.0}, {\"type\": \"predicted\", \"VCD\": 7.425642604955455, \"duration\": 0.2972222222222222, \"Process_lot\": 8044300309.0}, {\"type\": \"predicted\", \"VCD\": 39.42227978581823, \"duration\": 53.158055555555556, \"Process_lot\": 8044300283.0}, {\"type\": \"predicted\", \"VCD\": 32.80685677578444, \"duration\": 46.492777777777775, \"Process_lot\": 8044300257.0}, {\"type\": \"predicted\", \"VCD\": 17.903783614171388, \"duration\": 26.470277777777778, \"Process_lot\": 8044300234.0}, {\"type\": \"predicted\", \"VCD\": 5.782506236116872, \"duration\": 0.3425, \"Process_lot\": 8044300549.0}, {\"type\": \"predicted\", \"VCD\": 12.177669021695236, \"duration\": 23.56861111111111, \"Process_lot\": 8044300328.0}, {\"type\": \"predicted\", \"VCD\": 31.105346779072434, \"duration\": 43.08361111111111, \"Process_lot\": 8044300316.0}, {\"type\": \"predicted\", \"VCD\": 32.63381962871226, \"duration\": 43.63361111111111, \"Process_lot\": 8044300286.0}, {\"type\": \"predicted\", \"VCD\": 15.243963444565079, \"duration\": 23.08888888888889, \"Process_lot\": 8044300264.0}, {\"type\": \"predicted\", \"VCD\": 18.31214238473153, \"duration\": 24.138055555555557, \"Process_lot\": 8044300281.0}, {\"type\": \"predicted\", \"VCD\": 6.287415291048511, \"duration\": 0.30972222222222223, \"Process_lot\": 8044300239.0}, {\"type\": \"predicted\", \"VCD\": 6.4746725121444735, \"duration\": 0.20972222222222223, \"Process_lot\": 8044300237.0}, {\"type\": \"predicted\", \"VCD\": 28.874915284183942, \"duration\": 43.4475, \"Process_lot\": 8044300321.0}, {\"type\": \"predicted\", \"VCD\": 36.15892629460218, \"duration\": 55.2425, \"Process_lot\": 8044300226.0}, {\"type\": \"predicted\", \"VCD\": 36.06454202405247, \"duration\": 57.76166666666666, \"Process_lot\": 8044300327.0}, {\"type\": \"predicted\", \"VCD\": 23.559891549060588, \"duration\": 42.419444444444444, \"Process_lot\": 8044300337.0}, {\"type\": \"predicted\", \"VCD\": 30.057377925832306, \"duration\": 43.36833333333333, \"Process_lot\": 8044300281.0}, {\"type\": \"predicted\", \"VCD\": 6.934595553149928, \"duration\": 0.25083333333333335, \"Process_lot\": 8044300320.0}, {\"type\": \"predicted\", \"VCD\": 17.33720706981742, \"duration\": 23.82472222222222, \"Process_lot\": 8044300282.0}, {\"type\": \"predicted\", \"VCD\": 30.233773884831162, \"duration\": 47.45361111111111, \"Process_lot\": 8044300266.0}, {\"type\": \"predicted\", \"VCD\": 39.37667527312283, \"duration\": 57.81138888888889, \"Process_lot\": 8044300560.0}, {\"type\": \"predicted\", \"VCD\": 7.036978217868523, \"duration\": 0.6566666666666666, \"Process_lot\": 8044300256.0}, {\"type\": \"predicted\", \"VCD\": 29.294883008165407, \"duration\": 42.625277777777775, \"Process_lot\": 8044300334.0}, {\"type\": \"predicted\", \"VCD\": 45.75676595527746, \"duration\": 54.53861111111111, \"Process_lot\": 8044300275.0}, {\"type\": \"predicted\", \"VCD\": 38.71318198107736, \"duration\": 60.4025, \"Process_lot\": 8044300352.0}, {\"type\": \"predicted\", \"VCD\": 5.3598596747930225, \"duration\": 0.24166666666666667, \"Process_lot\": 8044300345.0}, {\"type\": \"predicted\", \"VCD\": 16.317951501154813, \"duration\": 24.947777777777777, \"Process_lot\": 8044300307.0}, {\"type\": \"predicted\", \"VCD\": 5.721649778583362, \"duration\": 0.2713888888888889, \"Process_lot\": 8044300346.0}, {\"type\": \"predicted\", \"VCD\": 6.6079452474028715, \"duration\": 0.2225, \"Process_lot\": 8044300273.0}, {\"type\": \"predicted\", \"VCD\": 14.772673631824608, \"duration\": 22.250833333333333, \"Process_lot\": 8044300237.0}, {\"type\": \"predicted\", \"VCD\": 16.72904332176214, \"duration\": 23.94527777777778, \"Process_lot\": 8044300290.0}, {\"type\": \"predicted\", \"VCD\": 33.567721460092024, \"duration\": 42.721111111111114, \"Process_lot\": 8044300273.0}, {\"type\": \"actual\", \"VCD\": 30.08, \"duration\": 43.098333333333336, \"Process_lot\": 8044300290.0}, {\"type\": \"actual\", \"VCD\": 37.42, \"duration\": 50.98, \"Process_lot\": 8044300285.0}, {\"type\": \"actual\", \"VCD\": 5.04, \"duration\": 0.5613888888888889, \"Process_lot\": 8044300352.0}, {\"type\": \"actual\", \"VCD\": 23.42, \"duration\": 41.38055555555555, \"Process_lot\": 8044300344.0}, {\"type\": \"actual\", \"VCD\": 19.3, \"duration\": 24.621111111111112, \"Process_lot\": 8044300273.0}, {\"type\": \"actual\", \"VCD\": 7.49, \"duration\": 0.3788888888888889, \"Process_lot\": 8044300267.0}, {\"type\": \"actual\", \"VCD\": 23.17, \"duration\": 43.59388888888889, \"Process_lot\": 8044300320.0}, {\"type\": \"actual\", \"VCD\": 13.77, \"duration\": 22.324444444444445, \"Process_lot\": 8044300318.0}, {\"type\": \"actual\", \"VCD\": 43.8, \"duration\": 64.60277777777777, \"Process_lot\": 8044300549.0}, {\"type\": \"actual\", \"VCD\": 5.1, \"duration\": 0.2652777777777778, \"Process_lot\": 8044300334.0}, {\"type\": \"actual\", \"VCD\": 38.17, \"duration\": 52.028055555555554, \"Process_lot\": 8044300319.0}, {\"type\": \"actual\", \"VCD\": 14.96, \"duration\": 25.989722222222223, \"Process_lot\": 8044300329.0}, {\"type\": \"actual\", \"VCD\": 26.84, \"duration\": 43.0275, \"Process_lot\": 8044300289.0}, {\"type\": \"actual\", \"VCD\": 5.94, \"duration\": 0.22083333333333333, \"Process_lot\": 8044300228.0}, {\"type\": \"actual\", \"VCD\": 30.06, \"duration\": 43.33861111111111, \"Process_lot\": 8044300309.0}, {\"type\": \"actual\", \"VCD\": 13.26, \"duration\": 23.60611111111111, \"Process_lot\": 8044300327.0}, {\"type\": \"actual\", \"VCD\": 39.81, \"duration\": 54.15027777777778, \"Process_lot\": 8044300289.0}, {\"type\": \"actual\", \"VCD\": 13.63, \"duration\": 23.733055555555556, \"Process_lot\": 8044300226.0}, {\"type\": \"actual\", \"VCD\": 17.84, \"duration\": 24.03611111111111, \"Process_lot\": 8044300260.0}, {\"type\": \"actual\", \"VCD\": 34.8, \"duration\": 49.731944444444444, \"Process_lot\": 8044300318.0}, {\"type\": \"actual\", \"VCD\": 37.2, \"duration\": 52.158055555555556, \"Process_lot\": 8044300336.0}, {\"type\": \"actual\", \"VCD\": 22.88, \"duration\": 43.33777777777778, \"Process_lot\": 8044300322.0}, {\"type\": \"actual\", \"VCD\": 23.15, \"duration\": 43.07277777777778, \"Process_lot\": 8044300345.0}, {\"type\": \"actual\", \"VCD\": 39.35, \"duration\": 54.23722222222222, \"Process_lot\": 8044300337.0}, {\"type\": \"actual\", \"VCD\": 15.88, \"duration\": 24.13, \"Process_lot\": 8044300289.0}, {\"type\": \"actual\", \"VCD\": 6.85, \"duration\": 0.2972222222222222, \"Process_lot\": 8044300309.0}, {\"type\": \"actual\", \"VCD\": 39.91, \"duration\": 53.158055555555556, \"Process_lot\": 8044300283.0}, {\"type\": \"actual\", \"VCD\": 32.1, \"duration\": 46.492777777777775, \"Process_lot\": 8044300257.0}, {\"type\": \"actual\", \"VCD\": 15.05, \"duration\": 26.470277777777778, \"Process_lot\": 8044300234.0}, {\"type\": \"actual\", \"VCD\": 5.46, \"duration\": 0.3425, \"Process_lot\": 8044300549.0}, {\"type\": \"actual\", \"VCD\": 12.91, \"duration\": 23.56861111111111, \"Process_lot\": 8044300328.0}, {\"type\": \"actual\", \"VCD\": 36.77, \"duration\": 43.08361111111111, \"Process_lot\": 8044300316.0}, {\"type\": \"actual\", \"VCD\": 30.48, \"duration\": 43.63361111111111, \"Process_lot\": 8044300286.0}, {\"type\": \"actual\", \"VCD\": 14.03, \"duration\": 23.08888888888889, \"Process_lot\": 8044300264.0}, {\"type\": \"actual\", \"VCD\": 16.02, \"duration\": 24.138055555555557, \"Process_lot\": 8044300281.0}, {\"type\": \"actual\", \"VCD\": 6.15, \"duration\": 0.30972222222222223, \"Process_lot\": 8044300239.0}, {\"type\": \"actual\", \"VCD\": 6.15, \"duration\": 0.20972222222222223, \"Process_lot\": 8044300237.0}, {\"type\": \"actual\", \"VCD\": 26.03, \"duration\": 43.4475, \"Process_lot\": 8044300321.0}, {\"type\": \"actual\", \"VCD\": 36.17, \"duration\": 55.2425, \"Process_lot\": 8044300226.0}, {\"type\": \"actual\", \"VCD\": 37.48, \"duration\": 57.76166666666666, \"Process_lot\": 8044300327.0}, {\"type\": \"actual\", \"VCD\": 25.96, \"duration\": 42.419444444444444, \"Process_lot\": 8044300337.0}, {\"type\": \"actual\", \"VCD\": 31.41, \"duration\": 43.36833333333333, \"Process_lot\": 8044300281.0}, {\"type\": \"actual\", \"VCD\": 4.77, \"duration\": 0.25083333333333335, \"Process_lot\": 8044300320.0}, {\"type\": \"actual\", \"VCD\": 15.09, \"duration\": 23.82472222222222, \"Process_lot\": 8044300282.0}, {\"type\": \"actual\", \"VCD\": 24.9, \"duration\": 47.45361111111111, \"Process_lot\": 8044300266.0}, {\"type\": \"actual\", \"VCD\": 43.37, \"duration\": 57.81138888888889, \"Process_lot\": 8044300560.0}, {\"type\": \"actual\", \"VCD\": 6.27, \"duration\": 0.6566666666666666, \"Process_lot\": 8044300256.0}, {\"type\": \"actual\", \"VCD\": 22.1, \"duration\": 42.625277777777775, \"Process_lot\": 8044300334.0}, {\"type\": \"actual\", \"VCD\": 45.98, \"duration\": 54.53861111111111, \"Process_lot\": 8044300275.0}, {\"type\": \"actual\", \"VCD\": 39.82, \"duration\": 60.4025, \"Process_lot\": 8044300352.0}, {\"type\": \"actual\", \"VCD\": 5.41, \"duration\": 0.24166666666666667, \"Process_lot\": 8044300345.0}, {\"type\": \"actual\", \"VCD\": 16.84, \"duration\": 24.947777777777777, \"Process_lot\": 8044300307.0}, {\"type\": \"actual\", \"VCD\": 5.17, \"duration\": 0.2713888888888889, \"Process_lot\": 8044300346.0}, {\"type\": \"actual\", \"VCD\": 7.64, \"duration\": 0.2225, \"Process_lot\": 8044300273.0}, {\"type\": \"actual\", \"VCD\": 15.16, \"duration\": 22.250833333333333, \"Process_lot\": 8044300237.0}, {\"type\": \"actual\", \"VCD\": 16.04, \"duration\": 23.94527777777778, \"Process_lot\": 8044300290.0}, {\"type\": \"actual\", \"VCD\": 32.76, \"duration\": 42.721111111111114, \"Process_lot\": 8044300273.0}]}}, {\"mode\": \"vega-lite\"});\n",
       "</script>"
      ],
      "text/plain": [
       "alt.Chart(...)"
      ]
     },
     "execution_count": 40,
     "metadata": {},
     "output_type": "execute_result"
    }
   ],
   "source": [
    "chart2"
   ]
  },
  {
   "cell_type": "markdown",
   "metadata": {},
   "source": [
    "### To do/ Issues with this approach so far\n",
    "- Compare with cell doubling calculator\n",
    "- Grid Search\n",
    "- Test on other PA product combinations\n",
    "- Test on other Bioreactors (R1, R2, R4)"
   ]
  },
  {
   "cell_type": "markdown",
   "metadata": {},
   "source": [
    "### Other potential projects:\n",
    "- Clustering poor/good performers (Production lots) to examine process parameters and indicators present with poor/good performers\n",
    "- Predict Other process parameters (like Viabiltiy, Titer production etc.)"
   ]
  },
  {
   "cell_type": "markdown",
   "metadata": {},
   "source": [
    "### Grid Search for hyperparameters"
   ]
  },
  {
   "cell_type": "markdown",
   "metadata": {},
   "source": [
    "- try 3 fold CV\n",
    "- MSE\n",
    "- train on only target region"
   ]
  },
  {
   "cell_type": "markdown",
   "metadata": {},
   "source": [
    "### for cell doubling time comparison"
   ]
  },
  {
   "cell_type": "code",
   "execution_count": 41,
   "metadata": {},
   "outputs": [],
   "source": [
    "#cd_hack = to_plot[to_plot['duration'] >= 44.57]['duration'].to_list() # to only predict the times in test set\n",
    "cd_hack = to_plot['duration'].to_list() # durations in test set"
   ]
  },
  {
   "cell_type": "code",
   "execution_count": 42,
   "metadata": {},
   "outputs": [],
   "source": [
    "s = list(X_test['Process_lot'].unique())\n",
    "#s = list(X_test[(X_test['duration'] >= (44.57)) & (X_test['duration'] <= (68.7)) ]['Process_lot'].unique())"
   ]
  },
  {
   "cell_type": "code",
   "execution_count": 43,
   "metadata": {},
   "outputs": [],
   "source": [
    "#out = final_df[final_df['Process_lot'].isin(s)][['Process_lot', 'duration', 'VCD']]"
   ]
  },
  {
   "cell_type": "code",
   "execution_count": 44,
   "metadata": {},
   "outputs": [],
   "source": [
    "# out.to_csv('out.csv')\n"
   ]
  },
  {
   "cell_type": "code",
   "execution_count": 45,
   "metadata": {},
   "outputs": [],
   "source": [
    "cont = []\n",
    "dur = []\n",
    "lots = []\n",
    "lac = []\n",
    "final_df = final_df.sort_values(by='duration', ascending=True)\n",
    "# final_df['dummy'] = final_df['duration'].isin(cd_hack).astype(int) for some reason won't work with df have to do each lot\n",
    "# final_df['dummy'] = final_df['dummy'].shift(-1)\n",
    "#final_df['dummy'] = (final_df['dummy'] ==1) and ()\n",
    "for lot in s:\n",
    "    temp = final_df.copy()\n",
    "    temp = temp[temp['Process_lot']==lot][['Process_lot','duration', 'VCD','Lac']]\n",
    "    #temp = temp.sort_values(by='duration', ascending=True)\n",
    "    temp ['dummy'] = temp['duration'].isin(cd_hack).astype(int) # each lot to prevent spill over\n",
    "    temp ['z'] = temp['dummy'].shift(-1)\n",
    "    temp.reset_index(inplace=True)\n",
    "    \n",
    "    temp['duration'] = temp['duration']/24\n",
    "    temp['VCD'] = np.log(temp['VCD'])\n",
    "    for index, row in temp.iterrows():\n",
    "        if row['z'] == 1 and index !=0: # first index points can't fit a regression only one point\n",
    "            x = temp[['duration']].iloc[0:(index+1)]\n",
    "            y= temp[['VCD']].iloc[0:(index+1)]\n",
    "            #if row['Process_lot'] in ([8044300344,8044300320, 8044300309]):# debugging drop two points because makign prediction off only one point\n",
    "            #   print(temp)\n",
    "            reg = LinearRegression().fit(x,y)\n",
    "            val = reg.predict(np.array(temp[['duration']].iloc[index+1]).reshape(-1, 1))\n",
    "            dur.append(np.ravel(np.array(temp[['duration']].iloc[index+1]).reshape(-1, 1)).item()*24)\n",
    "            cont.append(np.ravel(np.exp(val)).item())\n",
    "            lots.append(temp['Process_lot'].iloc[index])\n",
    "            lac.append(temp['Lac'].iloc[index])\n",
    "    \n",
    "# validated with excel spreadsheet doubling calculator"
   ]
  },
  {
   "cell_type": "code",
   "execution_count": 46,
   "metadata": {},
   "outputs": [],
   "source": [
    "cd_spread = pd.DataFrame({'type': 'cd_calculator',\n",
    "                    \"VCD\":cont,\n",
    "                    'duration': dur,\n",
    "                    'Process_lot': lots,\n",
    "                         })\n",
    "cd_spread['dummy'] = cd_spread['duration'].isin(cd_hack).astype(int)\n",
    "to_plot_all = pd.concat([to_plot, cd_spread])\n",
    "# to_plot['Process_lot'] = X_test['Process_lot']"
   ]
  },
  {
   "cell_type": "code",
   "execution_count": 47,
   "metadata": {},
   "outputs": [],
   "source": [
    "test_plot = to_plot_all[to_plot_all['duration'].isin(cd_hack)]\n"
   ]
  },
  {
   "cell_type": "code",
   "execution_count": 48,
   "metadata": {},
   "outputs": [
    {
     "data": {
      "text/html": [
       "\n",
       "<div id=\"altair-viz-eafd8925765e4a60b54df63929948bed\"></div>\n",
       "<script type=\"text/javascript\">\n",
       "  (function(spec, embedOpt){\n",
       "    let outputDiv = document.currentScript.previousElementSibling;\n",
       "    if (outputDiv.id !== \"altair-viz-eafd8925765e4a60b54df63929948bed\") {\n",
       "      outputDiv = document.getElementById(\"altair-viz-eafd8925765e4a60b54df63929948bed\");\n",
       "    }\n",
       "    const paths = {\n",
       "      \"vega\": \"https://cdn.jsdelivr.net/npm//vega@5?noext\",\n",
       "      \"vega-lib\": \"https://cdn.jsdelivr.net/npm//vega-lib?noext\",\n",
       "      \"vega-lite\": \"https://cdn.jsdelivr.net/npm//vega-lite@4.8.1?noext\",\n",
       "      \"vega-embed\": \"https://cdn.jsdelivr.net/npm//vega-embed@6?noext\",\n",
       "    };\n",
       "\n",
       "    function loadScript(lib) {\n",
       "      return new Promise(function(resolve, reject) {\n",
       "        var s = document.createElement('script');\n",
       "        s.src = paths[lib];\n",
       "        s.async = true;\n",
       "        s.onload = () => resolve(paths[lib]);\n",
       "        s.onerror = () => reject(`Error loading script: ${paths[lib]}`);\n",
       "        document.getElementsByTagName(\"head\")[0].appendChild(s);\n",
       "      });\n",
       "    }\n",
       "\n",
       "    function showError(err) {\n",
       "      outputDiv.innerHTML = `<div class=\"error\" style=\"color:red;\">${err}</div>`;\n",
       "      throw err;\n",
       "    }\n",
       "\n",
       "    function displayChart(vegaEmbed) {\n",
       "      vegaEmbed(outputDiv, spec, embedOpt)\n",
       "        .catch(err => showError(`Javascript Error: ${err.message}<br>This usually means there's a typo in your chart specification. See the javascript console for the full traceback.`));\n",
       "    }\n",
       "\n",
       "    if(typeof define === \"function\" && define.amd) {\n",
       "      requirejs.config({paths});\n",
       "      require([\"vega-embed\"], displayChart, err => showError(`Error loading script: ${err.message}`));\n",
       "    } else if (typeof vegaEmbed === \"function\") {\n",
       "      displayChart(vegaEmbed);\n",
       "    } else {\n",
       "      loadScript(\"vega\")\n",
       "        .then(() => loadScript(\"vega-lite\"))\n",
       "        .then(() => loadScript(\"vega-embed\"))\n",
       "        .catch(showError)\n",
       "        .then(() => displayChart(vegaEmbed));\n",
       "    }\n",
       "  })({\"config\": {\"view\": {\"continuousWidth\": 400, \"continuousHeight\": 300}}, \"data\": {\"name\": \"data-cb9bdb9e9416eaa60608faa23cedf782\"}, \"mark\": {\"type\": \"circle\", \"size\": 60}, \"encoding\": {\"color\": {\"type\": \"nominal\", \"field\": \"type\"}, \"tooltip\": [{\"type\": \"nominal\", \"field\": \"type\"}, {\"type\": \"quantitative\", \"field\": \"VCD\"}, {\"type\": \"quantitative\", \"field\": \"duration\"}, {\"type\": \"quantitative\", \"field\": \"Process_lot\"}], \"x\": {\"type\": \"quantitative\", \"field\": \"duration\", \"title\": \"Cell Culture Duration (Hrs)\"}, \"y\": {\"type\": \"quantitative\", \"field\": \"VCD\", \"title\": \"Viable Cell Density x 10 ^5\"}}, \"height\": 400, \"selection\": {\"selector002\": {\"type\": \"interval\", \"bind\": \"scales\", \"encodings\": [\"x\", \"y\"]}}, \"title\": \"GradientBoostingRegressor vs Cell Doubling Time\", \"width\": 840, \"$schema\": \"https://vega.github.io/schema/vega-lite/v4.8.1.json\", \"datasets\": {\"data-cb9bdb9e9416eaa60608faa23cedf782\": [{\"type\": \"predicted\", \"VCD\": 31.176473834002184, \"duration\": 43.098333333333336, \"Process_lot\": 8044300290.0, \"dummy\": null}, {\"type\": \"predicted\", \"VCD\": 37.707816208590444, \"duration\": 50.98, \"Process_lot\": 8044300285.0, \"dummy\": null}, {\"type\": \"predicted\", \"VCD\": 5.160274675020867, \"duration\": 0.5613888888888889, \"Process_lot\": 8044300352.0, \"dummy\": null}, {\"type\": \"predicted\", \"VCD\": 22.443679077097297, \"duration\": 41.38055555555555, \"Process_lot\": 8044300344.0, \"dummy\": null}, {\"type\": \"predicted\", \"VCD\": 18.50163621719874, \"duration\": 24.621111111111112, \"Process_lot\": 8044300273.0, \"dummy\": null}, {\"type\": \"predicted\", \"VCD\": 6.094041095247443, \"duration\": 0.3788888888888889, \"Process_lot\": 8044300267.0, \"dummy\": null}, {\"type\": \"predicted\", \"VCD\": 27.73909024498846, \"duration\": 43.59388888888889, \"Process_lot\": 8044300320.0, \"dummy\": null}, {\"type\": \"predicted\", \"VCD\": 14.923851366717852, \"duration\": 22.324444444444445, \"Process_lot\": 8044300318.0, \"dummy\": null}, {\"type\": \"predicted\", \"VCD\": 44.30742797806385, \"duration\": 64.60277777777777, \"Process_lot\": 8044300549.0, \"dummy\": null}, {\"type\": \"predicted\", \"VCD\": 5.6210724567806185, \"duration\": 0.2652777777777778, \"Process_lot\": 8044300334.0, \"dummy\": null}, {\"type\": \"predicted\", \"VCD\": 35.84021673694743, \"duration\": 52.028055555555554, \"Process_lot\": 8044300319.0, \"dummy\": null}, {\"type\": \"predicted\", \"VCD\": 17.709645014395367, \"duration\": 25.989722222222223, \"Process_lot\": 8044300329.0, \"dummy\": null}, {\"type\": \"predicted\", \"VCD\": 31.507263060191697, \"duration\": 43.0275, \"Process_lot\": 8044300289.0, \"dummy\": null}, {\"type\": \"predicted\", \"VCD\": 6.305129189453804, \"duration\": 0.22083333333333333, \"Process_lot\": 8044300228.0, \"dummy\": null}, {\"type\": \"predicted\", \"VCD\": 34.098071291289074, \"duration\": 43.33861111111111, \"Process_lot\": 8044300309.0, \"dummy\": null}, {\"type\": \"predicted\", \"VCD\": 13.621880694847363, \"duration\": 23.60611111111111, \"Process_lot\": 8044300327.0, \"dummy\": null}, {\"type\": \"predicted\", \"VCD\": 41.07353106758499, \"duration\": 54.15027777777778, \"Process_lot\": 8044300289.0, \"dummy\": null}, {\"type\": \"predicted\", \"VCD\": 15.380317198197409, \"duration\": 23.733055555555556, \"Process_lot\": 8044300226.0, \"dummy\": null}, {\"type\": \"predicted\", \"VCD\": 16.90617660848135, \"duration\": 24.03611111111111, \"Process_lot\": 8044300260.0, \"dummy\": null}, {\"type\": \"predicted\", \"VCD\": 37.11230640226483, \"duration\": 49.731944444444444, \"Process_lot\": 8044300318.0, \"dummy\": null}, {\"type\": \"predicted\", \"VCD\": 34.88205059662515, \"duration\": 52.158055555555556, \"Process_lot\": 8044300336.0, \"dummy\": null}, {\"type\": \"predicted\", \"VCD\": 27.2853889622928, \"duration\": 43.33777777777778, \"Process_lot\": 8044300322.0, \"dummy\": null}, {\"type\": \"predicted\", \"VCD\": 26.035395892739174, \"duration\": 43.07277777777778, \"Process_lot\": 8044300345.0, \"dummy\": null}, {\"type\": \"predicted\", \"VCD\": 35.61301184837895, \"duration\": 54.23722222222222, \"Process_lot\": 8044300337.0, \"dummy\": null}, {\"type\": \"predicted\", \"VCD\": 16.356766959193145, \"duration\": 24.13, \"Process_lot\": 8044300289.0, \"dummy\": null}, {\"type\": \"predicted\", \"VCD\": 7.425642604955455, \"duration\": 0.2972222222222222, \"Process_lot\": 8044300309.0, \"dummy\": null}, {\"type\": \"predicted\", \"VCD\": 39.42227978581823, \"duration\": 53.158055555555556, \"Process_lot\": 8044300283.0, \"dummy\": null}, {\"type\": \"predicted\", \"VCD\": 32.80685677578444, \"duration\": 46.492777777777775, \"Process_lot\": 8044300257.0, \"dummy\": null}, {\"type\": \"predicted\", \"VCD\": 17.903783614171388, \"duration\": 26.470277777777778, \"Process_lot\": 8044300234.0, \"dummy\": null}, {\"type\": \"predicted\", \"VCD\": 5.782506236116872, \"duration\": 0.3425, \"Process_lot\": 8044300549.0, \"dummy\": null}, {\"type\": \"predicted\", \"VCD\": 12.177669021695236, \"duration\": 23.56861111111111, \"Process_lot\": 8044300328.0, \"dummy\": null}, {\"type\": \"predicted\", \"VCD\": 31.105346779072434, \"duration\": 43.08361111111111, \"Process_lot\": 8044300316.0, \"dummy\": null}, {\"type\": \"predicted\", \"VCD\": 32.63381962871226, \"duration\": 43.63361111111111, \"Process_lot\": 8044300286.0, \"dummy\": null}, {\"type\": \"predicted\", \"VCD\": 15.243963444565079, \"duration\": 23.08888888888889, \"Process_lot\": 8044300264.0, \"dummy\": null}, {\"type\": \"predicted\", \"VCD\": 18.31214238473153, \"duration\": 24.138055555555557, \"Process_lot\": 8044300281.0, \"dummy\": null}, {\"type\": \"predicted\", \"VCD\": 6.287415291048511, \"duration\": 0.30972222222222223, \"Process_lot\": 8044300239.0, \"dummy\": null}, {\"type\": \"predicted\", \"VCD\": 6.4746725121444735, \"duration\": 0.20972222222222223, \"Process_lot\": 8044300237.0, \"dummy\": null}, {\"type\": \"predicted\", \"VCD\": 28.874915284183942, \"duration\": 43.4475, \"Process_lot\": 8044300321.0, \"dummy\": null}, {\"type\": \"predicted\", \"VCD\": 36.15892629460218, \"duration\": 55.2425, \"Process_lot\": 8044300226.0, \"dummy\": null}, {\"type\": \"predicted\", \"VCD\": 36.06454202405247, \"duration\": 57.76166666666666, \"Process_lot\": 8044300327.0, \"dummy\": null}, {\"type\": \"predicted\", \"VCD\": 23.559891549060588, \"duration\": 42.419444444444444, \"Process_lot\": 8044300337.0, \"dummy\": null}, {\"type\": \"predicted\", \"VCD\": 30.057377925832306, \"duration\": 43.36833333333333, \"Process_lot\": 8044300281.0, \"dummy\": null}, {\"type\": \"predicted\", \"VCD\": 6.934595553149928, \"duration\": 0.25083333333333335, \"Process_lot\": 8044300320.0, \"dummy\": null}, {\"type\": \"predicted\", \"VCD\": 17.33720706981742, \"duration\": 23.82472222222222, \"Process_lot\": 8044300282.0, \"dummy\": null}, {\"type\": \"predicted\", \"VCD\": 30.233773884831162, \"duration\": 47.45361111111111, \"Process_lot\": 8044300266.0, \"dummy\": null}, {\"type\": \"predicted\", \"VCD\": 39.37667527312283, \"duration\": 57.81138888888889, \"Process_lot\": 8044300560.0, \"dummy\": null}, {\"type\": \"predicted\", \"VCD\": 7.036978217868523, \"duration\": 0.6566666666666666, \"Process_lot\": 8044300256.0, \"dummy\": null}, {\"type\": \"predicted\", \"VCD\": 29.294883008165407, \"duration\": 42.625277777777775, \"Process_lot\": 8044300334.0, \"dummy\": null}, {\"type\": \"predicted\", \"VCD\": 45.75676595527746, \"duration\": 54.53861111111111, \"Process_lot\": 8044300275.0, \"dummy\": null}, {\"type\": \"predicted\", \"VCD\": 38.71318198107736, \"duration\": 60.4025, \"Process_lot\": 8044300352.0, \"dummy\": null}, {\"type\": \"predicted\", \"VCD\": 5.3598596747930225, \"duration\": 0.24166666666666667, \"Process_lot\": 8044300345.0, \"dummy\": null}, {\"type\": \"predicted\", \"VCD\": 16.317951501154813, \"duration\": 24.947777777777777, \"Process_lot\": 8044300307.0, \"dummy\": null}, {\"type\": \"predicted\", \"VCD\": 5.721649778583362, \"duration\": 0.2713888888888889, \"Process_lot\": 8044300346.0, \"dummy\": null}, {\"type\": \"predicted\", \"VCD\": 6.6079452474028715, \"duration\": 0.2225, \"Process_lot\": 8044300273.0, \"dummy\": null}, {\"type\": \"predicted\", \"VCD\": 14.772673631824608, \"duration\": 22.250833333333333, \"Process_lot\": 8044300237.0, \"dummy\": null}, {\"type\": \"predicted\", \"VCD\": 16.72904332176214, \"duration\": 23.94527777777778, \"Process_lot\": 8044300290.0, \"dummy\": null}, {\"type\": \"predicted\", \"VCD\": 33.567721460092024, \"duration\": 42.721111111111114, \"Process_lot\": 8044300273.0, \"dummy\": null}, {\"type\": \"actual\", \"VCD\": 30.08, \"duration\": 43.098333333333336, \"Process_lot\": 8044300290.0, \"dummy\": null}, {\"type\": \"actual\", \"VCD\": 37.42, \"duration\": 50.98, \"Process_lot\": 8044300285.0, \"dummy\": null}, {\"type\": \"actual\", \"VCD\": 5.04, \"duration\": 0.5613888888888889, \"Process_lot\": 8044300352.0, \"dummy\": null}, {\"type\": \"actual\", \"VCD\": 23.42, \"duration\": 41.38055555555555, \"Process_lot\": 8044300344.0, \"dummy\": null}, {\"type\": \"actual\", \"VCD\": 19.3, \"duration\": 24.621111111111112, \"Process_lot\": 8044300273.0, \"dummy\": null}, {\"type\": \"actual\", \"VCD\": 7.49, \"duration\": 0.3788888888888889, \"Process_lot\": 8044300267.0, \"dummy\": null}, {\"type\": \"actual\", \"VCD\": 23.17, \"duration\": 43.59388888888889, \"Process_lot\": 8044300320.0, \"dummy\": null}, {\"type\": \"actual\", \"VCD\": 13.77, \"duration\": 22.324444444444445, \"Process_lot\": 8044300318.0, \"dummy\": null}, {\"type\": \"actual\", \"VCD\": 43.8, \"duration\": 64.60277777777777, \"Process_lot\": 8044300549.0, \"dummy\": null}, {\"type\": \"actual\", \"VCD\": 5.1, \"duration\": 0.2652777777777778, \"Process_lot\": 8044300334.0, \"dummy\": null}, {\"type\": \"actual\", \"VCD\": 38.17, \"duration\": 52.028055555555554, \"Process_lot\": 8044300319.0, \"dummy\": null}, {\"type\": \"actual\", \"VCD\": 14.96, \"duration\": 25.989722222222223, \"Process_lot\": 8044300329.0, \"dummy\": null}, {\"type\": \"actual\", \"VCD\": 26.84, \"duration\": 43.0275, \"Process_lot\": 8044300289.0, \"dummy\": null}, {\"type\": \"actual\", \"VCD\": 5.94, \"duration\": 0.22083333333333333, \"Process_lot\": 8044300228.0, \"dummy\": null}, {\"type\": \"actual\", \"VCD\": 30.06, \"duration\": 43.33861111111111, \"Process_lot\": 8044300309.0, \"dummy\": null}, {\"type\": \"actual\", \"VCD\": 13.26, \"duration\": 23.60611111111111, \"Process_lot\": 8044300327.0, \"dummy\": null}, {\"type\": \"actual\", \"VCD\": 39.81, \"duration\": 54.15027777777778, \"Process_lot\": 8044300289.0, \"dummy\": null}, {\"type\": \"actual\", \"VCD\": 13.63, \"duration\": 23.733055555555556, \"Process_lot\": 8044300226.0, \"dummy\": null}, {\"type\": \"actual\", \"VCD\": 17.84, \"duration\": 24.03611111111111, \"Process_lot\": 8044300260.0, \"dummy\": null}, {\"type\": \"actual\", \"VCD\": 34.8, \"duration\": 49.731944444444444, \"Process_lot\": 8044300318.0, \"dummy\": null}, {\"type\": \"actual\", \"VCD\": 37.2, \"duration\": 52.158055555555556, \"Process_lot\": 8044300336.0, \"dummy\": null}, {\"type\": \"actual\", \"VCD\": 22.88, \"duration\": 43.33777777777778, \"Process_lot\": 8044300322.0, \"dummy\": null}, {\"type\": \"actual\", \"VCD\": 23.15, \"duration\": 43.07277777777778, \"Process_lot\": 8044300345.0, \"dummy\": null}, {\"type\": \"actual\", \"VCD\": 39.35, \"duration\": 54.23722222222222, \"Process_lot\": 8044300337.0, \"dummy\": null}, {\"type\": \"actual\", \"VCD\": 15.88, \"duration\": 24.13, \"Process_lot\": 8044300289.0, \"dummy\": null}, {\"type\": \"actual\", \"VCD\": 6.85, \"duration\": 0.2972222222222222, \"Process_lot\": 8044300309.0, \"dummy\": null}, {\"type\": \"actual\", \"VCD\": 39.91, \"duration\": 53.158055555555556, \"Process_lot\": 8044300283.0, \"dummy\": null}, {\"type\": \"actual\", \"VCD\": 32.1, \"duration\": 46.492777777777775, \"Process_lot\": 8044300257.0, \"dummy\": null}, {\"type\": \"actual\", \"VCD\": 15.05, \"duration\": 26.470277777777778, \"Process_lot\": 8044300234.0, \"dummy\": null}, {\"type\": \"actual\", \"VCD\": 5.46, \"duration\": 0.3425, \"Process_lot\": 8044300549.0, \"dummy\": null}, {\"type\": \"actual\", \"VCD\": 12.91, \"duration\": 23.56861111111111, \"Process_lot\": 8044300328.0, \"dummy\": null}, {\"type\": \"actual\", \"VCD\": 36.77, \"duration\": 43.08361111111111, \"Process_lot\": 8044300316.0, \"dummy\": null}, {\"type\": \"actual\", \"VCD\": 30.48, \"duration\": 43.63361111111111, \"Process_lot\": 8044300286.0, \"dummy\": null}, {\"type\": \"actual\", \"VCD\": 14.03, \"duration\": 23.08888888888889, \"Process_lot\": 8044300264.0, \"dummy\": null}, {\"type\": \"actual\", \"VCD\": 16.02, \"duration\": 24.138055555555557, \"Process_lot\": 8044300281.0, \"dummy\": null}, {\"type\": \"actual\", \"VCD\": 6.15, \"duration\": 0.30972222222222223, \"Process_lot\": 8044300239.0, \"dummy\": null}, {\"type\": \"actual\", \"VCD\": 6.15, \"duration\": 0.20972222222222223, \"Process_lot\": 8044300237.0, \"dummy\": null}, {\"type\": \"actual\", \"VCD\": 26.03, \"duration\": 43.4475, \"Process_lot\": 8044300321.0, \"dummy\": null}, {\"type\": \"actual\", \"VCD\": 36.17, \"duration\": 55.2425, \"Process_lot\": 8044300226.0, \"dummy\": null}, {\"type\": \"actual\", \"VCD\": 37.48, \"duration\": 57.76166666666666, \"Process_lot\": 8044300327.0, \"dummy\": null}, {\"type\": \"actual\", \"VCD\": 25.96, \"duration\": 42.419444444444444, \"Process_lot\": 8044300337.0, \"dummy\": null}, {\"type\": \"actual\", \"VCD\": 31.41, \"duration\": 43.36833333333333, \"Process_lot\": 8044300281.0, \"dummy\": null}, {\"type\": \"actual\", \"VCD\": 4.77, \"duration\": 0.25083333333333335, \"Process_lot\": 8044300320.0, \"dummy\": null}, {\"type\": \"actual\", \"VCD\": 15.09, \"duration\": 23.82472222222222, \"Process_lot\": 8044300282.0, \"dummy\": null}, {\"type\": \"actual\", \"VCD\": 24.9, \"duration\": 47.45361111111111, \"Process_lot\": 8044300266.0, \"dummy\": null}, {\"type\": \"actual\", \"VCD\": 43.37, \"duration\": 57.81138888888889, \"Process_lot\": 8044300560.0, \"dummy\": null}, {\"type\": \"actual\", \"VCD\": 6.27, \"duration\": 0.6566666666666666, \"Process_lot\": 8044300256.0, \"dummy\": null}, {\"type\": \"actual\", \"VCD\": 22.1, \"duration\": 42.625277777777775, \"Process_lot\": 8044300334.0, \"dummy\": null}, {\"type\": \"actual\", \"VCD\": 45.98, \"duration\": 54.53861111111111, \"Process_lot\": 8044300275.0, \"dummy\": null}, {\"type\": \"actual\", \"VCD\": 39.82, \"duration\": 60.4025, \"Process_lot\": 8044300352.0, \"dummy\": null}, {\"type\": \"actual\", \"VCD\": 5.41, \"duration\": 0.24166666666666667, \"Process_lot\": 8044300345.0, \"dummy\": null}, {\"type\": \"actual\", \"VCD\": 16.84, \"duration\": 24.947777777777777, \"Process_lot\": 8044300307.0, \"dummy\": null}, {\"type\": \"actual\", \"VCD\": 5.17, \"duration\": 0.2713888888888889, \"Process_lot\": 8044300346.0, \"dummy\": null}, {\"type\": \"actual\", \"VCD\": 7.64, \"duration\": 0.2225, \"Process_lot\": 8044300273.0, \"dummy\": null}, {\"type\": \"actual\", \"VCD\": 15.16, \"duration\": 22.250833333333333, \"Process_lot\": 8044300237.0, \"dummy\": null}, {\"type\": \"actual\", \"VCD\": 16.04, \"duration\": 23.94527777777778, \"Process_lot\": 8044300290.0, \"dummy\": null}, {\"type\": \"actual\", \"VCD\": 32.76, \"duration\": 42.721111111111114, \"Process_lot\": 8044300273.0, \"dummy\": null}, {\"type\": \"cd_calculator\", \"VCD\": 38.76600258509988, \"duration\": 43.098333333333336, \"Process_lot\": 8044300290.0, \"dummy\": 1.0}, {\"type\": \"cd_calculator\", \"VCD\": 39.37994097363264, \"duration\": 50.98, \"Process_lot\": 8044300285.0, \"dummy\": 1.0}, {\"type\": \"cd_calculator\", \"VCD\": 38.68109738500906, \"duration\": 60.4025, \"Process_lot\": 8044300352.0, \"dummy\": 1.0}, {\"type\": \"cd_calculator\", \"VCD\": 25.37881161679383, \"duration\": 41.38055555555555, \"Process_lot\": 8044300344.0, \"dummy\": 1.0}, {\"type\": \"cd_calculator\", \"VCD\": 38.3816271156536, \"duration\": 42.721111111111114, \"Process_lot\": 8044300273.0, \"dummy\": 1.0}, {\"type\": \"cd_calculator\", \"VCD\": 38.69359090401373, \"duration\": 49.73194444444445, \"Process_lot\": 8044300318.0, \"dummy\": 0.0}, {\"type\": \"cd_calculator\", \"VCD\": 47.45443297298163, \"duration\": 64.60277777777777, \"Process_lot\": 8044300549.0, \"dummy\": 1.0}, {\"type\": \"cd_calculator\", \"VCD\": 23.67339693658318, \"duration\": 42.625277777777775, \"Process_lot\": 8044300334.0, \"dummy\": 1.0}, {\"type\": \"cd_calculator\", \"VCD\": 41.637076395642026, \"duration\": 52.028055555555554, \"Process_lot\": 8044300319.0, \"dummy\": 1.0}, {\"type\": \"cd_calculator\", \"VCD\": 34.22428826494432, \"duration\": 43.0275, \"Process_lot\": 8044300289.0, \"dummy\": 1.0}, {\"type\": \"cd_calculator\", \"VCD\": 41.75929608939289, \"duration\": 54.15027777777779, \"Process_lot\": 8044300289.0, \"dummy\": 0.0}, {\"type\": \"cd_calculator\", \"VCD\": 41.874281985042664, \"duration\": 57.76166666666666, \"Process_lot\": 8044300327.0, \"dummy\": 1.0}, {\"type\": \"cd_calculator\", \"VCD\": 42.07192517710835, \"duration\": 55.2425, \"Process_lot\": 8044300226.0, \"dummy\": 1.0}, {\"type\": \"cd_calculator\", \"VCD\": 41.21516460774426, \"duration\": 52.158055555555556, \"Process_lot\": 8044300336.0, \"dummy\": 1.0}, {\"type\": \"cd_calculator\", \"VCD\": 30.86796343496257, \"duration\": 43.33777777777778, \"Process_lot\": 8044300322.0, \"dummy\": 1.0}, {\"type\": \"cd_calculator\", \"VCD\": 25.249581697419476, \"duration\": 43.07277777777778, \"Process_lot\": 8044300345.0, \"dummy\": 1.0}, {\"type\": \"cd_calculator\", \"VCD\": 34.12327290679437, \"duration\": 42.419444444444444, \"Process_lot\": 8044300337.0, \"dummy\": 1.0}, {\"type\": \"cd_calculator\", \"VCD\": 42.3990098857756, \"duration\": 54.23722222222223, \"Process_lot\": 8044300337.0, \"dummy\": 0.0}, {\"type\": \"cd_calculator\", \"VCD\": 42.08416709172414, \"duration\": 53.15805555555555, \"Process_lot\": 8044300283.0, \"dummy\": 0.0}, {\"type\": \"cd_calculator\", \"VCD\": 40.360127585123756, \"duration\": 46.492777777777775, \"Process_lot\": 8044300257.0, \"dummy\": 1.0}, {\"type\": \"cd_calculator\", \"VCD\": 45.47995848562236, \"duration\": 43.08361111111111, \"Process_lot\": 8044300316.0, \"dummy\": 1.0}, {\"type\": \"cd_calculator\", \"VCD\": 32.43253044151811, \"duration\": 43.63361111111111, \"Process_lot\": 8044300286.0, \"dummy\": 1.0}, {\"type\": \"cd_calculator\", \"VCD\": 34.80468390579148, \"duration\": 43.36833333333333, \"Process_lot\": 8044300281.0, \"dummy\": 1.0}, {\"type\": \"cd_calculator\", \"VCD\": 29.957666812705675, \"duration\": 43.4475, \"Process_lot\": 8044300321.0, \"dummy\": 1.0}, {\"type\": \"cd_calculator\", \"VCD\": 23.78112985136761, \"duration\": 47.45361111111111, \"Process_lot\": 8044300266.0, \"dummy\": 1.0}, {\"type\": \"cd_calculator\", \"VCD\": 51.07649136583355, \"duration\": 57.811388888888885, \"Process_lot\": 8044300560.0, \"dummy\": 0.0}, {\"type\": \"cd_calculator\", \"VCD\": 52.701308493308645, \"duration\": 54.53861111111111, \"Process_lot\": 8044300275.0, \"dummy\": 1.0}]}}, {\"mode\": \"vega-lite\"});\n",
       "</script>"
      ],
      "text/plain": [
       "alt.Chart(...)"
      ]
     },
     "execution_count": 48,
     "metadata": {},
     "output_type": "execute_result"
    }
   ],
   "source": [
    "chart3 = alt.Chart(to_plot_all[~((to_plot_all['duration'] < 30) &  (to_plot_all['type'] =='cd_calculator'))]).mark_circle(size=60,).encode(\n",
    "    alt.X('duration', title='Cell Culture Duration (Hrs)'),\n",
    "    alt.Y('VCD',title='Viable Cell Density x 10 ^5'),\n",
    "    color = 'type',\n",
    "    tooltip = [\"type\", 'VCD', 'duration','Process_lot']\n",
    "\n",
    ").properties(\n",
    "    width=840,\n",
    "    height=400,\n",
    "    title='GradientBoostingRegressor vs Cell Doubling Time'\n",
    ")\n",
    "sav = (chart3 ).interactive()\n",
    "\n",
    "sav"
   ]
  },
  {
   "cell_type": "code",
   "execution_count": 49,
   "metadata": {},
   "outputs": [],
   "source": [
    "#sav.save('chart.html')"
   ]
  },
  {
   "cell_type": "markdown",
   "metadata": {},
   "source": [
    "### need at least 2 data points to generate a prediction for CD calculator"
   ]
  },
  {
   "cell_type": "code",
   "execution_count": 50,
   "metadata": {},
   "outputs": [],
   "source": [
    "from sklearn.metrics import mean_squared_error\n",
    "expansion_window = to_plot_all[to_plot_all['duration'] >= 43.8].sort_values(by='duration')"
   ]
  },
  {
   "cell_type": "code",
   "execution_count": 51,
   "metadata": {},
   "outputs": [],
   "source": [
    "true = expansion_window[expansion_window['type'] == 'actual']['VCD'].to_list()\n",
    "GB_pred = expansion_window[expansion_window['type'] == 'predicted']['VCD'].to_list()\n",
    "CD_pred = expansion_window[expansion_window['type'] == 'cd_calculator']['VCD'].to_list()"
   ]
  },
  {
   "cell_type": "code",
   "execution_count": 52,
   "metadata": {},
   "outputs": [
    {
     "data": {
      "text/plain": [
       "5.364085341751179"
      ]
     },
     "execution_count": 52,
     "metadata": {},
     "output_type": "execute_result"
    }
   ],
   "source": [
    "mean_squared_error(true, GB_pred)"
   ]
  },
  {
   "cell_type": "code",
   "execution_count": 53,
   "metadata": {},
   "outputs": [
    {
     "data": {
      "text/plain": [
       "20.520586201698414"
      ]
     },
     "execution_count": 53,
     "metadata": {},
     "output_type": "execute_result"
    }
   ],
   "source": [
    "mean_squared_error(true, CD_pred) # need to sort"
   ]
  },
  {
   "cell_type": "code",
   "execution_count": 54,
   "metadata": {},
   "outputs": [
    {
     "data": {
      "text/plain": [
       "Index(['index', 'Sample ID', 'pH', 'PO2', 'PCO2', 'Gln', 'Glu', 'Gluc', 'Lac',\n",
       "       'NH4+', 'Na+', 'K+', 'Ca++', 'Osmolality', 'Total Density', 'VCD',\n",
       "       'Viability', 'Avg. Live Diameter', 'Cell Inspection Type', 'Vessel ID',\n",
       "       'Vessel Temperature (oC)', 'Vessel Pressure (psi)', 'PO2 @ Temp',\n",
       "       'PCO2 @ Temp', 'O2 Saturation', 'CO2 Saturation', 'HCO3', 'Process_lot',\n",
       "       'Date & Time', 'inoc_time', 'duration'],\n",
       "      dtype='object')"
      ]
     },
     "execution_count": 54,
     "metadata": {},
     "output_type": "execute_result"
    }
   ],
   "source": [
    "final_df.columns"
   ]
  },
  {
   "cell_type": "code",
   "execution_count": 55,
   "metadata": {},
   "outputs": [],
   "source": [
    "cols_ins= ['pH', 'PO2', 'PCO2', 'Gln', 'Glu', 'Gluc', 'Lac',\n",
    "       'NH4+', 'Na+', 'K+', 'Ca++', 'Osmolality','duration', 'Process_lot']"
   ]
  },
  {
   "cell_type": "code",
   "execution_count": 56,
   "metadata": {},
   "outputs": [],
   "source": [
    "final_df['Process_lot'] = final_df['Process_lot'].astype(str)"
   ]
  },
  {
   "cell_type": "code",
   "execution_count": 57,
   "metadata": {
    "scrolled": true
   },
   "outputs": [
    {
     "data": {
      "text/html": [
       "<div>\n",
       "<style scoped>\n",
       "    .dataframe tbody tr th:only-of-type {\n",
       "        vertical-align: middle;\n",
       "    }\n",
       "\n",
       "    .dataframe tbody tr th {\n",
       "        vertical-align: top;\n",
       "    }\n",
       "\n",
       "    .dataframe thead th {\n",
       "        text-align: right;\n",
       "    }\n",
       "</style>\n",
       "<table border=\"1\" class=\"dataframe\">\n",
       "  <thead>\n",
       "    <tr style=\"text-align: right;\">\n",
       "      <th></th>\n",
       "      <th>pH</th>\n",
       "      <th>PO2</th>\n",
       "      <th>PCO2</th>\n",
       "      <th>Gln</th>\n",
       "      <th>Glu</th>\n",
       "      <th>Gluc</th>\n",
       "      <th>Lac</th>\n",
       "      <th>NH4+</th>\n",
       "      <th>Na+</th>\n",
       "      <th>K+</th>\n",
       "      <th>Ca++</th>\n",
       "      <th>Osmolality</th>\n",
       "      <th>duration</th>\n",
       "      <th>Process_lot</th>\n",
       "    </tr>\n",
       "  </thead>\n",
       "  <tbody>\n",
       "    <tr>\n",
       "      <th>0</th>\n",
       "      <td>7.207</td>\n",
       "      <td>162.7</td>\n",
       "      <td>74.2</td>\n",
       "      <td>2.18</td>\n",
       "      <td>3.04</td>\n",
       "      <td>5.76</td>\n",
       "      <td>0.55</td>\n",
       "      <td>0.58</td>\n",
       "      <td>69.4</td>\n",
       "      <td>10.51</td>\n",
       "      <td>0.52</td>\n",
       "      <td>295.0</td>\n",
       "      <td>0.237778</td>\n",
       "      <td>8044300219.0</td>\n",
       "    </tr>\n",
       "    <tr>\n",
       "      <th>1</th>\n",
       "      <td>7.153</td>\n",
       "      <td>142.3</td>\n",
       "      <td>55.1</td>\n",
       "      <td>1.78</td>\n",
       "      <td>3.03</td>\n",
       "      <td>4.80</td>\n",
       "      <td>1.32</td>\n",
       "      <td>1.24</td>\n",
       "      <td>68.9</td>\n",
       "      <td>10.16</td>\n",
       "      <td>0.50</td>\n",
       "      <td>288.0</td>\n",
       "      <td>24.195000</td>\n",
       "      <td>8044300219.0</td>\n",
       "    </tr>\n",
       "    <tr>\n",
       "      <th>2</th>\n",
       "      <td>7.029</td>\n",
       "      <td>107.5</td>\n",
       "      <td>24.8</td>\n",
       "      <td>1.38</td>\n",
       "      <td>3.19</td>\n",
       "      <td>3.27</td>\n",
       "      <td>2.11</td>\n",
       "      <td>1.60</td>\n",
       "      <td>69.5</td>\n",
       "      <td>9.88</td>\n",
       "      <td>0.48</td>\n",
       "      <td>280.0</td>\n",
       "      <td>43.956389</td>\n",
       "      <td>8044300219.0</td>\n",
       "    </tr>\n",
       "    <tr>\n",
       "      <th>3</th>\n",
       "      <td>6.891</td>\n",
       "      <td>99.5</td>\n",
       "      <td>24.7</td>\n",
       "      <td>1.21</td>\n",
       "      <td>3.23</td>\n",
       "      <td>2.75</td>\n",
       "      <td>2.60</td>\n",
       "      <td>1.64</td>\n",
       "      <td>70.5</td>\n",
       "      <td>9.94</td>\n",
       "      <td>0.48</td>\n",
       "      <td>274.0</td>\n",
       "      <td>53.701389</td>\n",
       "      <td>8044300219.0</td>\n",
       "    </tr>\n",
       "    <tr>\n",
       "      <th>4</th>\n",
       "      <td>7.238</td>\n",
       "      <td>164.6</td>\n",
       "      <td>64.4</td>\n",
       "      <td>2.41</td>\n",
       "      <td>2.91</td>\n",
       "      <td>5.78</td>\n",
       "      <td>0.46</td>\n",
       "      <td>0.58</td>\n",
       "      <td>66.8</td>\n",
       "      <td>9.92</td>\n",
       "      <td>0.48</td>\n",
       "      <td>294.0</td>\n",
       "      <td>0.304722</td>\n",
       "      <td>8044300226.0</td>\n",
       "    </tr>\n",
       "    <tr>\n",
       "      <th>...</th>\n",
       "      <td>...</td>\n",
       "      <td>...</td>\n",
       "      <td>...</td>\n",
       "      <td>...</td>\n",
       "      <td>...</td>\n",
       "      <td>...</td>\n",
       "      <td>...</td>\n",
       "      <td>...</td>\n",
       "      <td>...</td>\n",
       "      <td>...</td>\n",
       "      <td>...</td>\n",
       "      <td>...</td>\n",
       "      <td>...</td>\n",
       "      <td>...</td>\n",
       "    </tr>\n",
       "    <tr>\n",
       "      <th>221</th>\n",
       "      <td>7.171</td>\n",
       "      <td>163.7</td>\n",
       "      <td>77.5</td>\n",
       "      <td>1.95</td>\n",
       "      <td>3.34</td>\n",
       "      <td>5.88</td>\n",
       "      <td>0.34</td>\n",
       "      <td>0.56</td>\n",
       "      <td>71.8</td>\n",
       "      <td>10.28</td>\n",
       "      <td>0.48</td>\n",
       "      <td>297.0</td>\n",
       "      <td>0.411944</td>\n",
       "      <td>8044300567.0</td>\n",
       "    </tr>\n",
       "    <tr>\n",
       "      <th>222</th>\n",
       "      <td>7.223</td>\n",
       "      <td>158.0</td>\n",
       "      <td>50.7</td>\n",
       "      <td>1.66</td>\n",
       "      <td>3.37</td>\n",
       "      <td>5.16</td>\n",
       "      <td>0.90</td>\n",
       "      <td>1.23</td>\n",
       "      <td>71.9</td>\n",
       "      <td>10.11</td>\n",
       "      <td>0.55</td>\n",
       "      <td>287.0</td>\n",
       "      <td>24.759444</td>\n",
       "      <td>8044300567.0</td>\n",
       "    </tr>\n",
       "    <tr>\n",
       "      <th>223</th>\n",
       "      <td>7.191</td>\n",
       "      <td>148.9</td>\n",
       "      <td>21.0</td>\n",
       "      <td>1.25</td>\n",
       "      <td>3.52</td>\n",
       "      <td>4.03</td>\n",
       "      <td>1.94</td>\n",
       "      <td>1.71</td>\n",
       "      <td>71.6</td>\n",
       "      <td>9.89</td>\n",
       "      <td>0.42</td>\n",
       "      <td>280.0</td>\n",
       "      <td>45.937778</td>\n",
       "      <td>8044300567.0</td>\n",
       "    </tr>\n",
       "    <tr>\n",
       "      <th>224</th>\n",
       "      <td>6.970</td>\n",
       "      <td>128.4</td>\n",
       "      <td>21.5</td>\n",
       "      <td>1.05</td>\n",
       "      <td>3.51</td>\n",
       "      <td>3.22</td>\n",
       "      <td>2.45</td>\n",
       "      <td>1.83</td>\n",
       "      <td>72.6</td>\n",
       "      <td>9.68</td>\n",
       "      <td>0.42</td>\n",
       "      <td>276.0</td>\n",
       "      <td>57.550000</td>\n",
       "      <td>8044300567.0</td>\n",
       "    </tr>\n",
       "    <tr>\n",
       "      <th>225</th>\n",
       "      <td>6.919</td>\n",
       "      <td>98.8</td>\n",
       "      <td>23.8</td>\n",
       "      <td>0.97</td>\n",
       "      <td>3.50</td>\n",
       "      <td>2.88</td>\n",
       "      <td>2.59</td>\n",
       "      <td>1.88</td>\n",
       "      <td>72.9</td>\n",
       "      <td>9.64</td>\n",
       "      <td>0.47</td>\n",
       "      <td>276.0</td>\n",
       "      <td>63.153333</td>\n",
       "      <td>8044300567.0</td>\n",
       "    </tr>\n",
       "  </tbody>\n",
       "</table>\n",
       "<p>225 rows × 14 columns</p>\n",
       "</div>"
      ],
      "text/plain": [
       "        pH    PO2  PCO2   Gln   Glu  Gluc   Lac  NH4+   Na+     K+  Ca++  \\\n",
       "0    7.207  162.7  74.2  2.18  3.04  5.76  0.55  0.58  69.4  10.51  0.52   \n",
       "1    7.153  142.3  55.1  1.78  3.03  4.80  1.32  1.24  68.9  10.16  0.50   \n",
       "2    7.029  107.5  24.8  1.38  3.19  3.27  2.11  1.60  69.5   9.88  0.48   \n",
       "3    6.891   99.5  24.7  1.21  3.23  2.75  2.60  1.64  70.5   9.94  0.48   \n",
       "4    7.238  164.6  64.4  2.41  2.91  5.78  0.46  0.58  66.8   9.92  0.48   \n",
       "..     ...    ...   ...   ...   ...   ...   ...   ...   ...    ...   ...   \n",
       "221  7.171  163.7  77.5  1.95  3.34  5.88  0.34  0.56  71.8  10.28  0.48   \n",
       "222  7.223  158.0  50.7  1.66  3.37  5.16  0.90  1.23  71.9  10.11  0.55   \n",
       "223  7.191  148.9  21.0  1.25  3.52  4.03  1.94  1.71  71.6   9.89  0.42   \n",
       "224  6.970  128.4  21.5  1.05  3.51  3.22  2.45  1.83  72.6   9.68  0.42   \n",
       "225  6.919   98.8  23.8  0.97  3.50  2.88  2.59  1.88  72.9   9.64  0.47   \n",
       "\n",
       "     Osmolality   duration   Process_lot  \n",
       "0         295.0   0.237778  8044300219.0  \n",
       "1         288.0  24.195000  8044300219.0  \n",
       "2         280.0  43.956389  8044300219.0  \n",
       "3         274.0  53.701389  8044300219.0  \n",
       "4         294.0   0.304722  8044300226.0  \n",
       "..          ...        ...           ...  \n",
       "221       297.0   0.411944  8044300567.0  \n",
       "222       287.0  24.759444  8044300567.0  \n",
       "223       280.0  45.937778  8044300567.0  \n",
       "224       276.0  57.550000  8044300567.0  \n",
       "225       276.0  63.153333  8044300567.0  \n",
       "\n",
       "[225 rows x 14 columns]"
      ]
     },
     "execution_count": 57,
     "metadata": {},
     "output_type": "execute_result"
    }
   ],
   "source": [
    "final_df.sort_values(['Process_lot','duration'])[cols_ins]"
   ]
  },
  {
   "cell_type": "markdown",
   "metadata": {},
   "source": [
    "## Using only duration and LAC"
   ]
  },
  {
   "cell_type": "code",
   "execution_count": 58,
   "metadata": {},
   "outputs": [],
   "source": [
    "def boost_regress():\n",
    "    from sklearn.ensemble import GradientBoostingClassifier\n",
    "    results = []\n",
    "    #for i in range(1,11):\n",
    "\n",
    "    clf = GradientBoostingRegressor(random_state=0,).fit(X_train[['Lac','duration']], y_train)\n",
    "\n",
    "    results = (clf.score(X_train[['Lac','duration']], y_train), clf.score(X_test[['Lac','duration']], y_test))\n",
    "    return results"
   ]
  },
  {
   "cell_type": "code",
   "execution_count": 59,
   "metadata": {},
   "outputs": [
    {
     "data": {
      "text/plain": [
       "(0.9936748744139627, 0.9514366049947393)"
      ]
     },
     "execution_count": 59,
     "metadata": {},
     "output_type": "execute_result"
    }
   ],
   "source": [
    "boost_regress()"
   ]
  },
  {
   "cell_type": "code",
   "execution_count": 60,
   "metadata": {},
   "outputs": [],
   "source": [
    "clf_x = GradientBoostingRegressor(random_state=0,).fit(X_train[['Lac','duration']], y_train)"
   ]
  },
  {
   "cell_type": "code",
   "execution_count": 61,
   "metadata": {},
   "outputs": [],
   "source": [
    "pred_x = pd.DataFrame({'type': 'predicted',\n",
    "                    \"VCD\":clf_x.predict(X_test[['Lac','duration']]),\n",
    "                    'duration': X_test['duration']})\n",
    "actual_x = pd.DataFrame({'type': 'actual',\n",
    "                    \"VCD\":y_test,\n",
    "                    'duration': X_test['duration']})\n",
    "\n",
    "to_plot_x = pd.concat([pred_x,actual_x, cd_spread])\n",
    "to_plot_x['Process_lot'] = X_test['Process_lot']"
   ]
  },
  {
   "cell_type": "code",
   "execution_count": 62,
   "metadata": {},
   "outputs": [],
   "source": [
    "true_x = to_plot_x[to_plot_x['type'] == 'actual']['VCD'].to_list()\n",
    "GB_pred_x = to_plot_x[to_plot_x['type'] == 'predicted']['VCD'].to_list()\n"
   ]
  },
  {
   "cell_type": "code",
   "execution_count": 63,
   "metadata": {},
   "outputs": [
    {
     "data": {
      "text/plain": [
       "7.635161105415804"
      ]
     },
     "execution_count": 63,
     "metadata": {},
     "output_type": "execute_result"
    }
   ],
   "source": [
    "mean_squared_error(true_x, GB_pred_x)"
   ]
  },
  {
   "cell_type": "markdown",
   "metadata": {},
   "source": [
    "### comparing with multifeature GB "
   ]
  },
  {
   "cell_type": "code",
   "execution_count": 64,
   "metadata": {},
   "outputs": [],
   "source": [
    "expansion_window = to_plot_all[to_plot_all['duration'] >= 0].sort_values(by='duration')\n",
    "true = expansion_window[expansion_window['type'] == 'actual']['VCD'].to_list()\n",
    "GB_pred = expansion_window[expansion_window['type'] == 'predicted']['VCD'].to_list()"
   ]
  },
  {
   "cell_type": "code",
   "execution_count": 65,
   "metadata": {},
   "outputs": [
    {
     "data": {
      "text/plain": [
       "5.594686961503142"
      ]
     },
     "execution_count": 65,
     "metadata": {},
     "output_type": "execute_result"
    }
   ],
   "source": [
    "mean_squared_error(true, GB_pred)"
   ]
  },
  {
   "cell_type": "code",
   "execution_count": 66,
   "metadata": {},
   "outputs": [
    {
     "data": {
      "text/html": [
       "\n",
       "<div id=\"altair-viz-8f7440a76b2342568d617a3d8c4f11cb\"></div>\n",
       "<script type=\"text/javascript\">\n",
       "  (function(spec, embedOpt){\n",
       "    let outputDiv = document.currentScript.previousElementSibling;\n",
       "    if (outputDiv.id !== \"altair-viz-8f7440a76b2342568d617a3d8c4f11cb\") {\n",
       "      outputDiv = document.getElementById(\"altair-viz-8f7440a76b2342568d617a3d8c4f11cb\");\n",
       "    }\n",
       "    const paths = {\n",
       "      \"vega\": \"https://cdn.jsdelivr.net/npm//vega@5?noext\",\n",
       "      \"vega-lib\": \"https://cdn.jsdelivr.net/npm//vega-lib?noext\",\n",
       "      \"vega-lite\": \"https://cdn.jsdelivr.net/npm//vega-lite@4.8.1?noext\",\n",
       "      \"vega-embed\": \"https://cdn.jsdelivr.net/npm//vega-embed@6?noext\",\n",
       "    };\n",
       "\n",
       "    function loadScript(lib) {\n",
       "      return new Promise(function(resolve, reject) {\n",
       "        var s = document.createElement('script');\n",
       "        s.src = paths[lib];\n",
       "        s.async = true;\n",
       "        s.onload = () => resolve(paths[lib]);\n",
       "        s.onerror = () => reject(`Error loading script: ${paths[lib]}`);\n",
       "        document.getElementsByTagName(\"head\")[0].appendChild(s);\n",
       "      });\n",
       "    }\n",
       "\n",
       "    function showError(err) {\n",
       "      outputDiv.innerHTML = `<div class=\"error\" style=\"color:red;\">${err}</div>`;\n",
       "      throw err;\n",
       "    }\n",
       "\n",
       "    function displayChart(vegaEmbed) {\n",
       "      vegaEmbed(outputDiv, spec, embedOpt)\n",
       "        .catch(err => showError(`Javascript Error: ${err.message}<br>This usually means there's a typo in your chart specification. See the javascript console for the full traceback.`));\n",
       "    }\n",
       "\n",
       "    if(typeof define === \"function\" && define.amd) {\n",
       "      requirejs.config({paths});\n",
       "      require([\"vega-embed\"], displayChart, err => showError(`Error loading script: ${err.message}`));\n",
       "    } else if (typeof vegaEmbed === \"function\") {\n",
       "      displayChart(vegaEmbed);\n",
       "    } else {\n",
       "      loadScript(\"vega\")\n",
       "        .then(() => loadScript(\"vega-lite\"))\n",
       "        .then(() => loadScript(\"vega-embed\"))\n",
       "        .catch(showError)\n",
       "        .then(() => displayChart(vegaEmbed));\n",
       "    }\n",
       "  })({\"config\": {\"view\": {\"continuousWidth\": 400, \"continuousHeight\": 300}}, \"data\": {\"name\": \"data-5d4089bf7c5e99ec8f91b8d74b33ad70\"}, \"mark\": {\"type\": \"circle\", \"size\": 60}, \"encoding\": {\"color\": {\"type\": \"nominal\", \"field\": \"type\"}, \"tooltip\": [{\"type\": \"nominal\", \"field\": \"type\"}, {\"type\": \"quantitative\", \"field\": \"VCD\"}, {\"type\": \"quantitative\", \"field\": \"duration\"}, {\"type\": \"quantitative\", \"field\": \"Process_lot\"}], \"x\": {\"type\": \"quantitative\", \"field\": \"duration\", \"title\": \"Cell Culture Duration (Hrs)\"}, \"y\": {\"type\": \"quantitative\", \"field\": \"VCD\", \"title\": \"Viable Cell Density x 10 ^5\"}}, \"height\": 400, \"selection\": {\"selector003\": {\"type\": \"interval\", \"bind\": \"scales\", \"encodings\": [\"x\", \"y\"]}}, \"title\": \"GradientBoostingRegressor [Dur, LAC] vs Cell Doubling Time\", \"width\": 840, \"$schema\": \"https://vega.github.io/schema/vega-lite/v4.8.1.json\", \"datasets\": {\"data-5d4089bf7c5e99ec8f91b8d74b33ad70\": [{\"type\": \"predicted\", \"VCD\": 29.629643994705443, \"duration\": 43.098333333333336, \"Process_lot\": 8044300290.0, \"dummy\": null}, {\"type\": \"predicted\", \"VCD\": 35.58042946852979, \"duration\": 50.98, \"Process_lot\": 8044300285.0, \"dummy\": null}, {\"type\": \"predicted\", \"VCD\": 6.015524542316748, \"duration\": 0.5613888888888889, \"Process_lot\": 8044300352.0, \"dummy\": null}, {\"type\": \"predicted\", \"VCD\": 23.631926220031932, \"duration\": 41.38055555555555, \"Process_lot\": 8044300344.0, \"dummy\": null}, {\"type\": \"predicted\", \"VCD\": 18.07566462972892, \"duration\": 24.621111111111112, \"Process_lot\": 8044300273.0, \"dummy\": null}, {\"type\": \"predicted\", \"VCD\": 6.437139486493647, \"duration\": 0.3788888888888889, \"Process_lot\": 8044300267.0, \"dummy\": null}, {\"type\": \"predicted\", \"VCD\": 27.98311714669658, \"duration\": 43.59388888888889, \"Process_lot\": 8044300320.0, \"dummy\": null}, {\"type\": \"predicted\", \"VCD\": 15.049497732124184, \"duration\": 22.324444444444445, \"Process_lot\": 8044300318.0, \"dummy\": null}, {\"type\": \"predicted\", \"VCD\": 43.44914809288926, \"duration\": 64.60277777777777, \"Process_lot\": 8044300549.0, \"dummy\": null}, {\"type\": \"predicted\", \"VCD\": 5.983436729778403, \"duration\": 0.2652777777777778, \"Process_lot\": 8044300334.0, \"dummy\": null}, {\"type\": \"predicted\", \"VCD\": 35.68299968682992, \"duration\": 52.028055555555554, \"Process_lot\": 8044300319.0, \"dummy\": null}, {\"type\": \"predicted\", \"VCD\": 18.070261791221004, \"duration\": 25.989722222222223, \"Process_lot\": 8044300329.0, \"dummy\": null}, {\"type\": \"predicted\", \"VCD\": 31.614755928936788, \"duration\": 43.0275, \"Process_lot\": 8044300289.0, \"dummy\": null}, {\"type\": \"predicted\", \"VCD\": 6.444075147322068, \"duration\": 0.22083333333333333, \"Process_lot\": 8044300228.0, \"dummy\": null}, {\"type\": \"predicted\", \"VCD\": 29.89674685743914, \"duration\": 43.33861111111111, \"Process_lot\": 8044300309.0, \"dummy\": null}, {\"type\": \"predicted\", \"VCD\": 14.181113618903908, \"duration\": 23.60611111111111, \"Process_lot\": 8044300327.0, \"dummy\": null}, {\"type\": \"predicted\", \"VCD\": 41.6621833350842, \"duration\": 54.15027777777778, \"Process_lot\": 8044300289.0, \"dummy\": null}, {\"type\": \"predicted\", \"VCD\": 14.958214967405667, \"duration\": 23.733055555555556, \"Process_lot\": 8044300226.0, \"dummy\": null}, {\"type\": \"predicted\", \"VCD\": 18.664859411706423, \"duration\": 24.03611111111111, \"Process_lot\": 8044300260.0, \"dummy\": null}, {\"type\": \"predicted\", \"VCD\": 34.58633913008681, \"duration\": 49.731944444444444, \"Process_lot\": 8044300318.0, \"dummy\": null}, {\"type\": \"predicted\", \"VCD\": 37.74914801854156, \"duration\": 52.158055555555556, \"Process_lot\": 8044300336.0, \"dummy\": null}, {\"type\": \"predicted\", \"VCD\": 28.272755715875423, \"duration\": 43.33777777777778, \"Process_lot\": 8044300322.0, \"dummy\": null}, {\"type\": \"predicted\", \"VCD\": 25.786557879049415, \"duration\": 43.07277777777778, \"Process_lot\": 8044300345.0, \"dummy\": null}, {\"type\": \"predicted\", \"VCD\": 37.3590941323046, \"duration\": 54.23722222222222, \"Process_lot\": 8044300337.0, \"dummy\": null}, {\"type\": \"predicted\", \"VCD\": 15.889945156525387, \"duration\": 24.13, \"Process_lot\": 8044300289.0, \"dummy\": null}, {\"type\": \"predicted\", \"VCD\": 6.131396824192615, \"duration\": 0.2972222222222222, \"Process_lot\": 8044300309.0, \"dummy\": null}, {\"type\": \"predicted\", \"VCD\": 36.94270882272871, \"duration\": 53.158055555555556, \"Process_lot\": 8044300283.0, \"dummy\": null}, {\"type\": \"predicted\", \"VCD\": 36.733854720168544, \"duration\": 46.492777777777775, \"Process_lot\": 8044300257.0, \"dummy\": null}, {\"type\": \"predicted\", \"VCD\": 18.40187312933503, \"duration\": 26.470277777777778, \"Process_lot\": 8044300234.0, \"dummy\": null}, {\"type\": \"predicted\", \"VCD\": 5.832138667315054, \"duration\": 0.3425, \"Process_lot\": 8044300549.0, \"dummy\": null}, {\"type\": \"predicted\", \"VCD\": 13.258573226100081, \"duration\": 23.56861111111111, \"Process_lot\": 8044300328.0, \"dummy\": null}, {\"type\": \"predicted\", \"VCD\": 29.141219254236418, \"duration\": 43.08361111111111, \"Process_lot\": 8044300316.0, \"dummy\": null}, {\"type\": \"predicted\", \"VCD\": 32.19382307304623, \"duration\": 43.63361111111111, \"Process_lot\": 8044300286.0, \"dummy\": null}, {\"type\": \"predicted\", \"VCD\": 15.64167074012534, \"duration\": 23.08888888888889, \"Process_lot\": 8044300264.0, \"dummy\": null}, {\"type\": \"predicted\", \"VCD\": 19.190528831841117, \"duration\": 24.138055555555557, \"Process_lot\": 8044300281.0, \"dummy\": null}, {\"type\": \"predicted\", \"VCD\": 6.131396824192615, \"duration\": 0.30972222222222223, \"Process_lot\": 8044300239.0, \"dummy\": null}, {\"type\": \"predicted\", \"VCD\": 6.444075147322068, \"duration\": 0.20972222222222223, \"Process_lot\": 8044300237.0, \"dummy\": null}, {\"type\": \"predicted\", \"VCD\": 29.115697825957096, \"duration\": 43.4475, \"Process_lot\": 8044300321.0, \"dummy\": null}, {\"type\": \"predicted\", \"VCD\": 39.13797314022039, \"duration\": 55.2425, \"Process_lot\": 8044300226.0, \"dummy\": null}, {\"type\": \"predicted\", \"VCD\": 37.225879590454085, \"duration\": 57.76166666666666, \"Process_lot\": 8044300327.0, \"dummy\": null}, {\"type\": \"predicted\", \"VCD\": 23.84811601475327, \"duration\": 42.419444444444444, \"Process_lot\": 8044300337.0, \"dummy\": null}, {\"type\": \"predicted\", \"VCD\": 28.96975360146161, \"duration\": 43.36833333333333, \"Process_lot\": 8044300281.0, \"dummy\": null}, {\"type\": \"predicted\", \"VCD\": 5.961785819788529, \"duration\": 0.25083333333333335, \"Process_lot\": 8044300320.0, \"dummy\": null}, {\"type\": \"predicted\", \"VCD\": 18.90383737778583, \"duration\": 23.82472222222222, \"Process_lot\": 8044300282.0, \"dummy\": null}, {\"type\": \"predicted\", \"VCD\": 32.613084728187374, \"duration\": 47.45361111111111, \"Process_lot\": 8044300266.0, \"dummy\": null}, {\"type\": \"predicted\", \"VCD\": 37.524795653337314, \"duration\": 57.81138888888889, \"Process_lot\": 8044300560.0, \"dummy\": null}, {\"type\": \"predicted\", \"VCD\": 7.038249518808231, \"duration\": 0.6566666666666666, \"Process_lot\": 8044300256.0, \"dummy\": null}, {\"type\": \"predicted\", \"VCD\": 25.634670645714415, \"duration\": 42.625277777777775, \"Process_lot\": 8044300334.0, \"dummy\": null}, {\"type\": \"predicted\", \"VCD\": 40.69000493636535, \"duration\": 54.53861111111111, \"Process_lot\": 8044300275.0, \"dummy\": null}, {\"type\": \"predicted\", \"VCD\": 38.52162730741853, \"duration\": 60.4025, \"Process_lot\": 8044300352.0, \"dummy\": null}, {\"type\": \"predicted\", \"VCD\": 5.917788849759245, \"duration\": 0.24166666666666667, \"Process_lot\": 8044300345.0, \"dummy\": null}, {\"type\": \"predicted\", \"VCD\": 16.115167993675346, \"duration\": 24.947777777777777, \"Process_lot\": 8044300307.0, \"dummy\": null}, {\"type\": \"predicted\", \"VCD\": 6.069456962078744, \"duration\": 0.2713888888888889, \"Process_lot\": 8044300346.0, \"dummy\": null}, {\"type\": \"predicted\", \"VCD\": 6.444075147322068, \"duration\": 0.2225, \"Process_lot\": 8044300273.0, \"dummy\": null}, {\"type\": \"predicted\", \"VCD\": 15.049497732124184, \"duration\": 22.250833333333333, \"Process_lot\": 8044300237.0, \"dummy\": null}, {\"type\": \"predicted\", \"VCD\": 15.889945156525387, \"duration\": 23.94527777777778, \"Process_lot\": 8044300290.0, \"dummy\": null}, {\"type\": \"predicted\", \"VCD\": 28.77314222618008, \"duration\": 42.721111111111114, \"Process_lot\": 8044300273.0, \"dummy\": null}, {\"type\": \"actual\", \"VCD\": 30.08, \"duration\": 43.098333333333336, \"Process_lot\": 8044300290.0, \"dummy\": null}, {\"type\": \"actual\", \"VCD\": 37.42, \"duration\": 50.98, \"Process_lot\": 8044300285.0, \"dummy\": null}, {\"type\": \"actual\", \"VCD\": 5.04, \"duration\": 0.5613888888888889, \"Process_lot\": 8044300352.0, \"dummy\": null}, {\"type\": \"actual\", \"VCD\": 23.42, \"duration\": 41.38055555555555, \"Process_lot\": 8044300344.0, \"dummy\": null}, {\"type\": \"actual\", \"VCD\": 19.3, \"duration\": 24.621111111111112, \"Process_lot\": 8044300273.0, \"dummy\": null}, {\"type\": \"actual\", \"VCD\": 7.49, \"duration\": 0.3788888888888889, \"Process_lot\": 8044300267.0, \"dummy\": null}, {\"type\": \"actual\", \"VCD\": 23.17, \"duration\": 43.59388888888889, \"Process_lot\": 8044300320.0, \"dummy\": null}, {\"type\": \"actual\", \"VCD\": 13.77, \"duration\": 22.324444444444445, \"Process_lot\": 8044300318.0, \"dummy\": null}, {\"type\": \"actual\", \"VCD\": 43.8, \"duration\": 64.60277777777777, \"Process_lot\": 8044300549.0, \"dummy\": null}, {\"type\": \"actual\", \"VCD\": 5.1, \"duration\": 0.2652777777777778, \"Process_lot\": 8044300334.0, \"dummy\": null}, {\"type\": \"actual\", \"VCD\": 38.17, \"duration\": 52.028055555555554, \"Process_lot\": 8044300319.0, \"dummy\": null}, {\"type\": \"actual\", \"VCD\": 14.96, \"duration\": 25.989722222222223, \"Process_lot\": 8044300329.0, \"dummy\": null}, {\"type\": \"actual\", \"VCD\": 26.84, \"duration\": 43.0275, \"Process_lot\": 8044300289.0, \"dummy\": null}, {\"type\": \"actual\", \"VCD\": 5.94, \"duration\": 0.22083333333333333, \"Process_lot\": 8044300228.0, \"dummy\": null}, {\"type\": \"actual\", \"VCD\": 30.06, \"duration\": 43.33861111111111, \"Process_lot\": 8044300309.0, \"dummy\": null}, {\"type\": \"actual\", \"VCD\": 13.26, \"duration\": 23.60611111111111, \"Process_lot\": 8044300327.0, \"dummy\": null}, {\"type\": \"actual\", \"VCD\": 39.81, \"duration\": 54.15027777777778, \"Process_lot\": 8044300289.0, \"dummy\": null}, {\"type\": \"actual\", \"VCD\": 13.63, \"duration\": 23.733055555555556, \"Process_lot\": 8044300226.0, \"dummy\": null}, {\"type\": \"actual\", \"VCD\": 17.84, \"duration\": 24.03611111111111, \"Process_lot\": 8044300260.0, \"dummy\": null}, {\"type\": \"actual\", \"VCD\": 34.8, \"duration\": 49.731944444444444, \"Process_lot\": 8044300318.0, \"dummy\": null}, {\"type\": \"actual\", \"VCD\": 37.2, \"duration\": 52.158055555555556, \"Process_lot\": 8044300336.0, \"dummy\": null}, {\"type\": \"actual\", \"VCD\": 22.88, \"duration\": 43.33777777777778, \"Process_lot\": 8044300322.0, \"dummy\": null}, {\"type\": \"actual\", \"VCD\": 23.15, \"duration\": 43.07277777777778, \"Process_lot\": 8044300345.0, \"dummy\": null}, {\"type\": \"actual\", \"VCD\": 39.35, \"duration\": 54.23722222222222, \"Process_lot\": 8044300337.0, \"dummy\": null}, {\"type\": \"actual\", \"VCD\": 15.88, \"duration\": 24.13, \"Process_lot\": 8044300289.0, \"dummy\": null}, {\"type\": \"actual\", \"VCD\": 6.85, \"duration\": 0.2972222222222222, \"Process_lot\": 8044300309.0, \"dummy\": null}, {\"type\": \"actual\", \"VCD\": 39.91, \"duration\": 53.158055555555556, \"Process_lot\": 8044300283.0, \"dummy\": null}, {\"type\": \"actual\", \"VCD\": 32.1, \"duration\": 46.492777777777775, \"Process_lot\": 8044300257.0, \"dummy\": null}, {\"type\": \"actual\", \"VCD\": 15.05, \"duration\": 26.470277777777778, \"Process_lot\": 8044300234.0, \"dummy\": null}, {\"type\": \"actual\", \"VCD\": 5.46, \"duration\": 0.3425, \"Process_lot\": 8044300549.0, \"dummy\": null}, {\"type\": \"actual\", \"VCD\": 12.91, \"duration\": 23.56861111111111, \"Process_lot\": 8044300328.0, \"dummy\": null}, {\"type\": \"actual\", \"VCD\": 36.77, \"duration\": 43.08361111111111, \"Process_lot\": 8044300316.0, \"dummy\": null}, {\"type\": \"actual\", \"VCD\": 30.48, \"duration\": 43.63361111111111, \"Process_lot\": 8044300286.0, \"dummy\": null}, {\"type\": \"actual\", \"VCD\": 14.03, \"duration\": 23.08888888888889, \"Process_lot\": 8044300264.0, \"dummy\": null}, {\"type\": \"actual\", \"VCD\": 16.02, \"duration\": 24.138055555555557, \"Process_lot\": 8044300281.0, \"dummy\": null}, {\"type\": \"actual\", \"VCD\": 6.15, \"duration\": 0.30972222222222223, \"Process_lot\": 8044300239.0, \"dummy\": null}, {\"type\": \"actual\", \"VCD\": 6.15, \"duration\": 0.20972222222222223, \"Process_lot\": 8044300237.0, \"dummy\": null}, {\"type\": \"actual\", \"VCD\": 26.03, \"duration\": 43.4475, \"Process_lot\": 8044300321.0, \"dummy\": null}, {\"type\": \"actual\", \"VCD\": 36.17, \"duration\": 55.2425, \"Process_lot\": 8044300226.0, \"dummy\": null}, {\"type\": \"actual\", \"VCD\": 37.48, \"duration\": 57.76166666666666, \"Process_lot\": 8044300327.0, \"dummy\": null}, {\"type\": \"actual\", \"VCD\": 25.96, \"duration\": 42.419444444444444, \"Process_lot\": 8044300337.0, \"dummy\": null}, {\"type\": \"actual\", \"VCD\": 31.41, \"duration\": 43.36833333333333, \"Process_lot\": 8044300281.0, \"dummy\": null}, {\"type\": \"actual\", \"VCD\": 4.77, \"duration\": 0.25083333333333335, \"Process_lot\": 8044300320.0, \"dummy\": null}, {\"type\": \"actual\", \"VCD\": 15.09, \"duration\": 23.82472222222222, \"Process_lot\": 8044300282.0, \"dummy\": null}, {\"type\": \"actual\", \"VCD\": 24.9, \"duration\": 47.45361111111111, \"Process_lot\": 8044300266.0, \"dummy\": null}, {\"type\": \"actual\", \"VCD\": 43.37, \"duration\": 57.81138888888889, \"Process_lot\": 8044300560.0, \"dummy\": null}, {\"type\": \"actual\", \"VCD\": 6.27, \"duration\": 0.6566666666666666, \"Process_lot\": 8044300256.0, \"dummy\": null}, {\"type\": \"actual\", \"VCD\": 22.1, \"duration\": 42.625277777777775, \"Process_lot\": 8044300334.0, \"dummy\": null}, {\"type\": \"actual\", \"VCD\": 45.98, \"duration\": 54.53861111111111, \"Process_lot\": 8044300275.0, \"dummy\": null}, {\"type\": \"actual\", \"VCD\": 39.82, \"duration\": 60.4025, \"Process_lot\": 8044300352.0, \"dummy\": null}, {\"type\": \"actual\", \"VCD\": 5.41, \"duration\": 0.24166666666666667, \"Process_lot\": 8044300345.0, \"dummy\": null}, {\"type\": \"actual\", \"VCD\": 16.84, \"duration\": 24.947777777777777, \"Process_lot\": 8044300307.0, \"dummy\": null}, {\"type\": \"actual\", \"VCD\": 5.17, \"duration\": 0.2713888888888889, \"Process_lot\": 8044300346.0, \"dummy\": null}, {\"type\": \"actual\", \"VCD\": 7.64, \"duration\": 0.2225, \"Process_lot\": 8044300273.0, \"dummy\": null}, {\"type\": \"actual\", \"VCD\": 15.16, \"duration\": 22.250833333333333, \"Process_lot\": 8044300237.0, \"dummy\": null}, {\"type\": \"actual\", \"VCD\": 16.04, \"duration\": 23.94527777777778, \"Process_lot\": 8044300290.0, \"dummy\": null}, {\"type\": \"actual\", \"VCD\": 32.76, \"duration\": 42.721111111111114, \"Process_lot\": 8044300273.0, \"dummy\": null}, {\"type\": \"cd_calculator\", \"VCD\": 38.76600258509988, \"duration\": 43.098333333333336, \"Process_lot\": null, \"dummy\": 1.0}, {\"type\": \"cd_calculator\", \"VCD\": 39.37994097363264, \"duration\": 50.98, \"Process_lot\": null, \"dummy\": 1.0}, {\"type\": \"cd_calculator\", \"VCD\": 38.68109738500906, \"duration\": 60.4025, \"Process_lot\": null, \"dummy\": 1.0}, {\"type\": \"cd_calculator\", \"VCD\": 25.37881161679383, \"duration\": 41.38055555555555, \"Process_lot\": null, \"dummy\": 1.0}, {\"type\": \"cd_calculator\", \"VCD\": 38.3816271156536, \"duration\": 42.721111111111114, \"Process_lot\": null, \"dummy\": 1.0}, {\"type\": \"cd_calculator\", \"VCD\": 38.69359090401373, \"duration\": 49.73194444444445, \"Process_lot\": 8044300226.0, \"dummy\": 0.0}, {\"type\": \"cd_calculator\", \"VCD\": 47.45443297298163, \"duration\": 64.60277777777777, \"Process_lot\": null, \"dummy\": 1.0}, {\"type\": \"cd_calculator\", \"VCD\": 23.67339693658318, \"duration\": 42.625277777777775, \"Process_lot\": 8044300226.0, \"dummy\": 1.0}, {\"type\": \"cd_calculator\", \"VCD\": 41.637076395642026, \"duration\": 52.028055555555554, \"Process_lot\": 8044300228.0, \"dummy\": 1.0}, {\"type\": \"cd_calculator\", \"VCD\": 34.22428826494432, \"duration\": 43.0275, \"Process_lot\": null, \"dummy\": 1.0}, {\"type\": \"cd_calculator\", \"VCD\": 41.75929608939289, \"duration\": 54.15027777777779, \"Process_lot\": null, \"dummy\": 0.0}, {\"type\": \"cd_calculator\", \"VCD\": 41.874281985042664, \"duration\": 57.76166666666666, \"Process_lot\": null, \"dummy\": 1.0}, {\"type\": \"cd_calculator\", \"VCD\": 42.07192517710835, \"duration\": 55.2425, \"Process_lot\": 8044300234.0, \"dummy\": 1.0}, {\"type\": \"cd_calculator\", \"VCD\": 41.21516460774426, \"duration\": 52.158055555555556, \"Process_lot\": null, \"dummy\": 1.0}, {\"type\": \"cd_calculator\", \"VCD\": 30.86796343496257, \"duration\": 43.33777777777778, \"Process_lot\": null, \"dummy\": 1.0}, {\"type\": \"cd_calculator\", \"VCD\": 25.249581697419476, \"duration\": 43.07277777777778, \"Process_lot\": 8044300237.0, \"dummy\": 1.0}, {\"type\": \"cd_calculator\", \"VCD\": 34.12327290679437, \"duration\": 42.419444444444444, \"Process_lot\": 8044300237.0, \"dummy\": 1.0}, {\"type\": \"cd_calculator\", \"VCD\": 42.3990098857756, \"duration\": 54.23722222222223, \"Process_lot\": null, \"dummy\": 0.0}, {\"type\": \"cd_calculator\", \"VCD\": 42.08416709172414, \"duration\": 53.15805555555555, \"Process_lot\": 8044300239.0, \"dummy\": 0.0}, {\"type\": \"cd_calculator\", \"VCD\": 40.360127585123756, \"duration\": 46.492777777777775, \"Process_lot\": null, \"dummy\": 1.0}, {\"type\": \"cd_calculator\", \"VCD\": 45.47995848562236, \"duration\": 43.08361111111111, \"Process_lot\": null, \"dummy\": 1.0}, {\"type\": \"cd_calculator\", \"VCD\": 32.43253044151811, \"duration\": 43.63361111111111, \"Process_lot\": null, \"dummy\": 1.0}, {\"type\": \"cd_calculator\", \"VCD\": 34.80468390579148, \"duration\": 43.36833333333333, \"Process_lot\": null, \"dummy\": 1.0}, {\"type\": \"cd_calculator\", \"VCD\": 29.957666812705675, \"duration\": 43.4475, \"Process_lot\": null, \"dummy\": 1.0}, {\"type\": \"cd_calculator\", \"VCD\": 23.78112985136761, \"duration\": 47.45361111111111, \"Process_lot\": null, \"dummy\": 1.0}, {\"type\": \"cd_calculator\", \"VCD\": 51.07649136583355, \"duration\": 57.811388888888885, \"Process_lot\": null, \"dummy\": 0.0}, {\"type\": \"cd_calculator\", \"VCD\": 52.701308493308645, \"duration\": 54.53861111111111, \"Process_lot\": null, \"dummy\": 1.0}]}}, {\"mode\": \"vega-lite\"});\n",
       "</script>"
      ],
      "text/plain": [
       "alt.Chart(...)"
      ]
     },
     "execution_count": 66,
     "metadata": {},
     "output_type": "execute_result"
    }
   ],
   "source": [
    "chart3 = alt.Chart(to_plot_x).mark_circle(size=60,).encode(\n",
    "    alt.X('duration', title='Cell Culture Duration (Hrs)'),\n",
    "    alt.Y('VCD',title='Viable Cell Density x 10 ^5'),\n",
    "    color = 'type',\n",
    "    tooltip = [\"type\", 'VCD', 'duration','Process_lot']\n",
    "\n",
    ").properties(\n",
    "    width=840,\n",
    "    height=400,\n",
    "    title='GradientBoostingRegressor [Dur, LAC] vs Cell Doubling Time'\n",
    ")\n",
    "sav = (chart3 ).interactive()\n",
    "\n",
    "sav"
   ]
  },
  {
   "cell_type": "code",
   "execution_count": 67,
   "metadata": {},
   "outputs": [],
   "source": [
    "import random"
   ]
  },
  {
   "cell_type": "code",
   "execution_count": 68,
   "metadata": {},
   "outputs": [
    {
     "data": {
      "text/plain": [
       "[1.06, 23.733055555555556]"
      ]
     },
     "execution_count": 68,
     "metadata": {},
     "output_type": "execute_result"
    }
   ],
   "source": [
    "X_test[['Lac','duration']].iloc[random.randint(0, len(X_test))].to_list()"
   ]
  },
  {
   "cell_type": "code",
   "execution_count": 69,
   "metadata": {},
   "outputs": [
    {
     "data": {
      "text/plain": [
       "array([37.62996598])"
      ]
     },
     "execution_count": 69,
     "metadata": {},
     "output_type": "execute_result"
    }
   ],
   "source": [
    "clf_x.predict(np.array([1.23, 60.03611111111111]).reshape(1,-1))"
   ]
  },
  {
   "cell_type": "code",
   "execution_count": 70,
   "metadata": {},
   "outputs": [],
   "source": [
    "clf_x.predict?"
   ]
  },
  {
   "cell_type": "code",
   "execution_count": 71,
   "metadata": {},
   "outputs": [
    {
     "data": {
      "text/plain": [
       "array([ 1.23      , 84.03611111])"
      ]
     },
     "execution_count": 71,
     "metadata": {},
     "output_type": "execute_result"
    }
   ],
   "source": [
    "np.array([1.23, 60.03611111111111]) + (0,24)"
   ]
  },
  {
   "cell_type": "code",
   "execution_count": 72,
   "metadata": {},
   "outputs": [],
   "source": [
    "shifted_24 = X_test[['Lac','duration']]  + (0,24)"
   ]
  },
  {
   "cell_type": "code",
   "execution_count": 73,
   "metadata": {},
   "outputs": [
    {
     "data": {
      "text/plain": [
       "198.72633689186938"
      ]
     },
     "execution_count": 73,
     "metadata": {},
     "output_type": "execute_result"
    }
   ],
   "source": [
    "mean_squared_error(clf_x.predict(shifted_24), y_test)"
   ]
  },
  {
   "cell_type": "markdown",
   "metadata": {},
   "source": [
    "### focusing on duration window"
   ]
  },
  {
   "cell_type": "code",
   "execution_count": 74,
   "metadata": {},
   "outputs": [],
   "source": [
    "expansion_window_x = to_plot_all[to_plot_all['duration'] >= 32].sort_values(by='duration')"
   ]
  },
  {
   "cell_type": "code",
   "execution_count": 75,
   "metadata": {},
   "outputs": [],
   "source": [
    "df_re = expansion_window_x[expansion_window_x['type'] == 'actual']"
   ]
  },
  {
   "cell_type": "code",
   "execution_count": 76,
   "metadata": {},
   "outputs": [],
   "source": [
    "df_re = df_re.merge(final_df[['duration', 'Lac']], on='duration')"
   ]
  },
  {
   "cell_type": "code",
   "execution_count": 77,
   "metadata": {},
   "outputs": [
    {
     "data": {
      "text/plain": [
       "253.1641753345706"
      ]
     },
     "execution_count": 77,
     "metadata": {},
     "output_type": "execute_result"
    }
   ],
   "source": [
    "mean_squared_error(clf_x.predict(df_re[['Lac','duration']] +(0,24)), df_re['VCD'])"
   ]
  },
  {
   "cell_type": "code",
   "execution_count": 78,
   "metadata": {},
   "outputs": [],
   "source": [
    "pred_x = pd.DataFrame({'type': 'predicted',\n",
    "                    \"VCD\":clf_x.predict(X_test[['Lac','duration']]),\n",
    "                    'duration': X_test['duration'],\n",
    "                      })\n",
    "actual_x = pd.DataFrame({'type': 'actual',\n",
    "                    \"VCD\":y_test,\n",
    "                    'duration': X_test['duration']})\n",
    "\n",
    "shifted = pd.DataFrame({'type': 'shifted',\n",
    "                    \"VCD\": clf_x.predict(shifted_24),\n",
    "                    'duration': X_test['duration']})\n",
    "\n",
    "\n",
    "to_plot_x = pd.concat([pred_x,actual_x,shifted])\n",
    "to_plot_x['Process_lot'] = X_test['Process_lot']"
   ]
  },
  {
   "cell_type": "code",
   "execution_count": 79,
   "metadata": {},
   "outputs": [
    {
     "data": {
      "text/html": [
       "\n",
       "<div id=\"altair-viz-6367094692984f93a76b0bf16fdbf959\"></div>\n",
       "<script type=\"text/javascript\">\n",
       "  (function(spec, embedOpt){\n",
       "    let outputDiv = document.currentScript.previousElementSibling;\n",
       "    if (outputDiv.id !== \"altair-viz-6367094692984f93a76b0bf16fdbf959\") {\n",
       "      outputDiv = document.getElementById(\"altair-viz-6367094692984f93a76b0bf16fdbf959\");\n",
       "    }\n",
       "    const paths = {\n",
       "      \"vega\": \"https://cdn.jsdelivr.net/npm//vega@5?noext\",\n",
       "      \"vega-lib\": \"https://cdn.jsdelivr.net/npm//vega-lib?noext\",\n",
       "      \"vega-lite\": \"https://cdn.jsdelivr.net/npm//vega-lite@4.8.1?noext\",\n",
       "      \"vega-embed\": \"https://cdn.jsdelivr.net/npm//vega-embed@6?noext\",\n",
       "    };\n",
       "\n",
       "    function loadScript(lib) {\n",
       "      return new Promise(function(resolve, reject) {\n",
       "        var s = document.createElement('script');\n",
       "        s.src = paths[lib];\n",
       "        s.async = true;\n",
       "        s.onload = () => resolve(paths[lib]);\n",
       "        s.onerror = () => reject(`Error loading script: ${paths[lib]}`);\n",
       "        document.getElementsByTagName(\"head\")[0].appendChild(s);\n",
       "      });\n",
       "    }\n",
       "\n",
       "    function showError(err) {\n",
       "      outputDiv.innerHTML = `<div class=\"error\" style=\"color:red;\">${err}</div>`;\n",
       "      throw err;\n",
       "    }\n",
       "\n",
       "    function displayChart(vegaEmbed) {\n",
       "      vegaEmbed(outputDiv, spec, embedOpt)\n",
       "        .catch(err => showError(`Javascript Error: ${err.message}<br>This usually means there's a typo in your chart specification. See the javascript console for the full traceback.`));\n",
       "    }\n",
       "\n",
       "    if(typeof define === \"function\" && define.amd) {\n",
       "      requirejs.config({paths});\n",
       "      require([\"vega-embed\"], displayChart, err => showError(`Error loading script: ${err.message}`));\n",
       "    } else if (typeof vegaEmbed === \"function\") {\n",
       "      displayChart(vegaEmbed);\n",
       "    } else {\n",
       "      loadScript(\"vega\")\n",
       "        .then(() => loadScript(\"vega-lite\"))\n",
       "        .then(() => loadScript(\"vega-embed\"))\n",
       "        .catch(showError)\n",
       "        .then(() => displayChart(vegaEmbed));\n",
       "    }\n",
       "  })({\"config\": {\"view\": {\"continuousWidth\": 400, \"continuousHeight\": 300}}, \"data\": {\"name\": \"data-666d16bf2714b16942b44fe480aaab40\"}, \"mark\": {\"type\": \"circle\", \"size\": 60}, \"encoding\": {\"color\": {\"type\": \"nominal\", \"field\": \"type\"}, \"tooltip\": [{\"type\": \"nominal\", \"field\": \"type\"}, {\"type\": \"quantitative\", \"field\": \"VCD\"}, {\"type\": \"quantitative\", \"field\": \"duration\"}, {\"type\": \"quantitative\", \"field\": \"Process_lot\"}], \"x\": {\"type\": \"quantitative\", \"field\": \"duration\", \"title\": \"Cell Culture Duration (Hrs)\"}, \"y\": {\"type\": \"quantitative\", \"field\": \"VCD\", \"title\": \"Viable Cell Density x 10 ^5\"}}, \"height\": 400, \"selection\": {\"selector004\": {\"type\": \"interval\", \"bind\": \"scales\", \"encodings\": [\"x\", \"y\"]}}, \"title\": \"GradientBoostingRegressor [Dur, LAC] Shifting 24hrs\", \"width\": 840, \"$schema\": \"https://vega.github.io/schema/vega-lite/v4.8.1.json\", \"datasets\": {\"data-666d16bf2714b16942b44fe480aaab40\": [{\"type\": \"predicted\", \"VCD\": 29.629643994705443, \"duration\": 43.098333333333336, \"Process_lot\": 8044300290.0}, {\"type\": \"predicted\", \"VCD\": 35.58042946852979, \"duration\": 50.98, \"Process_lot\": 8044300285.0}, {\"type\": \"predicted\", \"VCD\": 6.015524542316748, \"duration\": 0.5613888888888889, \"Process_lot\": 8044300352.0}, {\"type\": \"predicted\", \"VCD\": 23.631926220031932, \"duration\": 41.38055555555555, \"Process_lot\": 8044300344.0}, {\"type\": \"predicted\", \"VCD\": 18.07566462972892, \"duration\": 24.621111111111112, \"Process_lot\": 8044300273.0}, {\"type\": \"predicted\", \"VCD\": 6.437139486493647, \"duration\": 0.3788888888888889, \"Process_lot\": 8044300267.0}, {\"type\": \"predicted\", \"VCD\": 27.98311714669658, \"duration\": 43.59388888888889, \"Process_lot\": 8044300320.0}, {\"type\": \"predicted\", \"VCD\": 15.049497732124184, \"duration\": 22.324444444444445, \"Process_lot\": 8044300318.0}, {\"type\": \"predicted\", \"VCD\": 43.44914809288926, \"duration\": 64.60277777777777, \"Process_lot\": 8044300549.0}, {\"type\": \"predicted\", \"VCD\": 5.983436729778403, \"duration\": 0.2652777777777778, \"Process_lot\": 8044300334.0}, {\"type\": \"predicted\", \"VCD\": 35.68299968682992, \"duration\": 52.028055555555554, \"Process_lot\": 8044300319.0}, {\"type\": \"predicted\", \"VCD\": 18.070261791221004, \"duration\": 25.989722222222223, \"Process_lot\": 8044300329.0}, {\"type\": \"predicted\", \"VCD\": 31.614755928936788, \"duration\": 43.0275, \"Process_lot\": 8044300289.0}, {\"type\": \"predicted\", \"VCD\": 6.444075147322068, \"duration\": 0.22083333333333333, \"Process_lot\": 8044300228.0}, {\"type\": \"predicted\", \"VCD\": 29.89674685743914, \"duration\": 43.33861111111111, \"Process_lot\": 8044300309.0}, {\"type\": \"predicted\", \"VCD\": 14.181113618903908, \"duration\": 23.60611111111111, \"Process_lot\": 8044300327.0}, {\"type\": \"predicted\", \"VCD\": 41.6621833350842, \"duration\": 54.15027777777778, \"Process_lot\": 8044300289.0}, {\"type\": \"predicted\", \"VCD\": 14.958214967405667, \"duration\": 23.733055555555556, \"Process_lot\": 8044300226.0}, {\"type\": \"predicted\", \"VCD\": 18.664859411706423, \"duration\": 24.03611111111111, \"Process_lot\": 8044300260.0}, {\"type\": \"predicted\", \"VCD\": 34.58633913008681, \"duration\": 49.731944444444444, \"Process_lot\": 8044300318.0}, {\"type\": \"predicted\", \"VCD\": 37.74914801854156, \"duration\": 52.158055555555556, \"Process_lot\": 8044300336.0}, {\"type\": \"predicted\", \"VCD\": 28.272755715875423, \"duration\": 43.33777777777778, \"Process_lot\": 8044300322.0}, {\"type\": \"predicted\", \"VCD\": 25.786557879049415, \"duration\": 43.07277777777778, \"Process_lot\": 8044300345.0}, {\"type\": \"predicted\", \"VCD\": 37.3590941323046, \"duration\": 54.23722222222222, \"Process_lot\": 8044300337.0}, {\"type\": \"predicted\", \"VCD\": 15.889945156525387, \"duration\": 24.13, \"Process_lot\": 8044300289.0}, {\"type\": \"predicted\", \"VCD\": 6.131396824192615, \"duration\": 0.2972222222222222, \"Process_lot\": 8044300309.0}, {\"type\": \"predicted\", \"VCD\": 36.94270882272871, \"duration\": 53.158055555555556, \"Process_lot\": 8044300283.0}, {\"type\": \"predicted\", \"VCD\": 36.733854720168544, \"duration\": 46.492777777777775, \"Process_lot\": 8044300257.0}, {\"type\": \"predicted\", \"VCD\": 18.40187312933503, \"duration\": 26.470277777777778, \"Process_lot\": 8044300234.0}, {\"type\": \"predicted\", \"VCD\": 5.832138667315054, \"duration\": 0.3425, \"Process_lot\": 8044300549.0}, {\"type\": \"predicted\", \"VCD\": 13.258573226100081, \"duration\": 23.56861111111111, \"Process_lot\": 8044300328.0}, {\"type\": \"predicted\", \"VCD\": 29.141219254236418, \"duration\": 43.08361111111111, \"Process_lot\": 8044300316.0}, {\"type\": \"predicted\", \"VCD\": 32.19382307304623, \"duration\": 43.63361111111111, \"Process_lot\": 8044300286.0}, {\"type\": \"predicted\", \"VCD\": 15.64167074012534, \"duration\": 23.08888888888889, \"Process_lot\": 8044300264.0}, {\"type\": \"predicted\", \"VCD\": 19.190528831841117, \"duration\": 24.138055555555557, \"Process_lot\": 8044300281.0}, {\"type\": \"predicted\", \"VCD\": 6.131396824192615, \"duration\": 0.30972222222222223, \"Process_lot\": 8044300239.0}, {\"type\": \"predicted\", \"VCD\": 6.444075147322068, \"duration\": 0.20972222222222223, \"Process_lot\": 8044300237.0}, {\"type\": \"predicted\", \"VCD\": 29.115697825957096, \"duration\": 43.4475, \"Process_lot\": 8044300321.0}, {\"type\": \"predicted\", \"VCD\": 39.13797314022039, \"duration\": 55.2425, \"Process_lot\": 8044300226.0}, {\"type\": \"predicted\", \"VCD\": 37.225879590454085, \"duration\": 57.76166666666666, \"Process_lot\": 8044300327.0}, {\"type\": \"predicted\", \"VCD\": 23.84811601475327, \"duration\": 42.419444444444444, \"Process_lot\": 8044300337.0}, {\"type\": \"predicted\", \"VCD\": 28.96975360146161, \"duration\": 43.36833333333333, \"Process_lot\": 8044300281.0}, {\"type\": \"predicted\", \"VCD\": 5.961785819788529, \"duration\": 0.25083333333333335, \"Process_lot\": 8044300320.0}, {\"type\": \"predicted\", \"VCD\": 18.90383737778583, \"duration\": 23.82472222222222, \"Process_lot\": 8044300282.0}, {\"type\": \"predicted\", \"VCD\": 32.613084728187374, \"duration\": 47.45361111111111, \"Process_lot\": 8044300266.0}, {\"type\": \"predicted\", \"VCD\": 37.524795653337314, \"duration\": 57.81138888888889, \"Process_lot\": 8044300560.0}, {\"type\": \"predicted\", \"VCD\": 7.038249518808231, \"duration\": 0.6566666666666666, \"Process_lot\": 8044300256.0}, {\"type\": \"predicted\", \"VCD\": 25.634670645714415, \"duration\": 42.625277777777775, \"Process_lot\": 8044300334.0}, {\"type\": \"predicted\", \"VCD\": 40.69000493636535, \"duration\": 54.53861111111111, \"Process_lot\": 8044300275.0}, {\"type\": \"predicted\", \"VCD\": 38.52162730741853, \"duration\": 60.4025, \"Process_lot\": 8044300352.0}, {\"type\": \"predicted\", \"VCD\": 5.917788849759245, \"duration\": 0.24166666666666667, \"Process_lot\": 8044300345.0}, {\"type\": \"predicted\", \"VCD\": 16.115167993675346, \"duration\": 24.947777777777777, \"Process_lot\": 8044300307.0}, {\"type\": \"predicted\", \"VCD\": 6.069456962078744, \"duration\": 0.2713888888888889, \"Process_lot\": 8044300346.0}, {\"type\": \"predicted\", \"VCD\": 6.444075147322068, \"duration\": 0.2225, \"Process_lot\": 8044300273.0}, {\"type\": \"predicted\", \"VCD\": 15.049497732124184, \"duration\": 22.250833333333333, \"Process_lot\": 8044300237.0}, {\"type\": \"predicted\", \"VCD\": 15.889945156525387, \"duration\": 23.94527777777778, \"Process_lot\": 8044300290.0}, {\"type\": \"predicted\", \"VCD\": 28.77314222618008, \"duration\": 42.721111111111114, \"Process_lot\": 8044300273.0}, {\"type\": \"actual\", \"VCD\": 30.08, \"duration\": 43.098333333333336, \"Process_lot\": 8044300290.0}, {\"type\": \"actual\", \"VCD\": 37.42, \"duration\": 50.98, \"Process_lot\": 8044300285.0}, {\"type\": \"actual\", \"VCD\": 5.04, \"duration\": 0.5613888888888889, \"Process_lot\": 8044300352.0}, {\"type\": \"actual\", \"VCD\": 23.42, \"duration\": 41.38055555555555, \"Process_lot\": 8044300344.0}, {\"type\": \"actual\", \"VCD\": 19.3, \"duration\": 24.621111111111112, \"Process_lot\": 8044300273.0}, {\"type\": \"actual\", \"VCD\": 7.49, \"duration\": 0.3788888888888889, \"Process_lot\": 8044300267.0}, {\"type\": \"actual\", \"VCD\": 23.17, \"duration\": 43.59388888888889, \"Process_lot\": 8044300320.0}, {\"type\": \"actual\", \"VCD\": 13.77, \"duration\": 22.324444444444445, \"Process_lot\": 8044300318.0}, {\"type\": \"actual\", \"VCD\": 43.8, \"duration\": 64.60277777777777, \"Process_lot\": 8044300549.0}, {\"type\": \"actual\", \"VCD\": 5.1, \"duration\": 0.2652777777777778, \"Process_lot\": 8044300334.0}, {\"type\": \"actual\", \"VCD\": 38.17, \"duration\": 52.028055555555554, \"Process_lot\": 8044300319.0}, {\"type\": \"actual\", \"VCD\": 14.96, \"duration\": 25.989722222222223, \"Process_lot\": 8044300329.0}, {\"type\": \"actual\", \"VCD\": 26.84, \"duration\": 43.0275, \"Process_lot\": 8044300289.0}, {\"type\": \"actual\", \"VCD\": 5.94, \"duration\": 0.22083333333333333, \"Process_lot\": 8044300228.0}, {\"type\": \"actual\", \"VCD\": 30.06, \"duration\": 43.33861111111111, \"Process_lot\": 8044300309.0}, {\"type\": \"actual\", \"VCD\": 13.26, \"duration\": 23.60611111111111, \"Process_lot\": 8044300327.0}, {\"type\": \"actual\", \"VCD\": 39.81, \"duration\": 54.15027777777778, \"Process_lot\": 8044300289.0}, {\"type\": \"actual\", \"VCD\": 13.63, \"duration\": 23.733055555555556, \"Process_lot\": 8044300226.0}, {\"type\": \"actual\", \"VCD\": 17.84, \"duration\": 24.03611111111111, \"Process_lot\": 8044300260.0}, {\"type\": \"actual\", \"VCD\": 34.8, \"duration\": 49.731944444444444, \"Process_lot\": 8044300318.0}, {\"type\": \"actual\", \"VCD\": 37.2, \"duration\": 52.158055555555556, \"Process_lot\": 8044300336.0}, {\"type\": \"actual\", \"VCD\": 22.88, \"duration\": 43.33777777777778, \"Process_lot\": 8044300322.0}, {\"type\": \"actual\", \"VCD\": 23.15, \"duration\": 43.07277777777778, \"Process_lot\": 8044300345.0}, {\"type\": \"actual\", \"VCD\": 39.35, \"duration\": 54.23722222222222, \"Process_lot\": 8044300337.0}, {\"type\": \"actual\", \"VCD\": 15.88, \"duration\": 24.13, \"Process_lot\": 8044300289.0}, {\"type\": \"actual\", \"VCD\": 6.85, \"duration\": 0.2972222222222222, \"Process_lot\": 8044300309.0}, {\"type\": \"actual\", \"VCD\": 39.91, \"duration\": 53.158055555555556, \"Process_lot\": 8044300283.0}, {\"type\": \"actual\", \"VCD\": 32.1, \"duration\": 46.492777777777775, \"Process_lot\": 8044300257.0}, {\"type\": \"actual\", \"VCD\": 15.05, \"duration\": 26.470277777777778, \"Process_lot\": 8044300234.0}, {\"type\": \"actual\", \"VCD\": 5.46, \"duration\": 0.3425, \"Process_lot\": 8044300549.0}, {\"type\": \"actual\", \"VCD\": 12.91, \"duration\": 23.56861111111111, \"Process_lot\": 8044300328.0}, {\"type\": \"actual\", \"VCD\": 36.77, \"duration\": 43.08361111111111, \"Process_lot\": 8044300316.0}, {\"type\": \"actual\", \"VCD\": 30.48, \"duration\": 43.63361111111111, \"Process_lot\": 8044300286.0}, {\"type\": \"actual\", \"VCD\": 14.03, \"duration\": 23.08888888888889, \"Process_lot\": 8044300264.0}, {\"type\": \"actual\", \"VCD\": 16.02, \"duration\": 24.138055555555557, \"Process_lot\": 8044300281.0}, {\"type\": \"actual\", \"VCD\": 6.15, \"duration\": 0.30972222222222223, \"Process_lot\": 8044300239.0}, {\"type\": \"actual\", \"VCD\": 6.15, \"duration\": 0.20972222222222223, \"Process_lot\": 8044300237.0}, {\"type\": \"actual\", \"VCD\": 26.03, \"duration\": 43.4475, \"Process_lot\": 8044300321.0}, {\"type\": \"actual\", \"VCD\": 36.17, \"duration\": 55.2425, \"Process_lot\": 8044300226.0}, {\"type\": \"actual\", \"VCD\": 37.48, \"duration\": 57.76166666666666, \"Process_lot\": 8044300327.0}, {\"type\": \"actual\", \"VCD\": 25.96, \"duration\": 42.419444444444444, \"Process_lot\": 8044300337.0}, {\"type\": \"actual\", \"VCD\": 31.41, \"duration\": 43.36833333333333, \"Process_lot\": 8044300281.0}, {\"type\": \"actual\", \"VCD\": 4.77, \"duration\": 0.25083333333333335, \"Process_lot\": 8044300320.0}, {\"type\": \"actual\", \"VCD\": 15.09, \"duration\": 23.82472222222222, \"Process_lot\": 8044300282.0}, {\"type\": \"actual\", \"VCD\": 24.9, \"duration\": 47.45361111111111, \"Process_lot\": 8044300266.0}, {\"type\": \"actual\", \"VCD\": 43.37, \"duration\": 57.81138888888889, \"Process_lot\": 8044300560.0}, {\"type\": \"actual\", \"VCD\": 6.27, \"duration\": 0.6566666666666666, \"Process_lot\": 8044300256.0}, {\"type\": \"actual\", \"VCD\": 22.1, \"duration\": 42.625277777777775, \"Process_lot\": 8044300334.0}, {\"type\": \"actual\", \"VCD\": 45.98, \"duration\": 54.53861111111111, \"Process_lot\": 8044300275.0}, {\"type\": \"actual\", \"VCD\": 39.82, \"duration\": 60.4025, \"Process_lot\": 8044300352.0}, {\"type\": \"actual\", \"VCD\": 5.41, \"duration\": 0.24166666666666667, \"Process_lot\": 8044300345.0}, {\"type\": \"actual\", \"VCD\": 16.84, \"duration\": 24.947777777777777, \"Process_lot\": 8044300307.0}, {\"type\": \"actual\", \"VCD\": 5.17, \"duration\": 0.2713888888888889, \"Process_lot\": 8044300346.0}, {\"type\": \"actual\", \"VCD\": 7.64, \"duration\": 0.2225, \"Process_lot\": 8044300273.0}, {\"type\": \"actual\", \"VCD\": 15.16, \"duration\": 22.250833333333333, \"Process_lot\": 8044300237.0}, {\"type\": \"actual\", \"VCD\": 16.04, \"duration\": 23.94527777777778, \"Process_lot\": 8044300290.0}, {\"type\": \"actual\", \"VCD\": 32.76, \"duration\": 42.721111111111114, \"Process_lot\": 8044300273.0}, {\"type\": \"shifted\", \"VCD\": 46.61877382702333, \"duration\": 43.098333333333336, \"Process_lot\": 8044300290.0}, {\"type\": \"shifted\", \"VCD\": 47.62764361594896, \"duration\": 50.98, \"Process_lot\": 8044300285.0}, {\"type\": \"shifted\", \"VCD\": 13.244586107108674, \"duration\": 0.5613888888888889, \"Process_lot\": 8044300352.0}, {\"type\": \"shifted\", \"VCD\": 47.991321043385014, \"duration\": 41.38055555555555, \"Process_lot\": 8044300344.0}, {\"type\": \"shifted\", \"VCD\": 29.736770373886284, \"duration\": 24.621111111111112, \"Process_lot\": 8044300273.0}, {\"type\": \"shifted\", \"VCD\": 13.440169636932067, \"duration\": 0.3788888888888889, \"Process_lot\": 8044300267.0}, {\"type\": \"shifted\", \"VCD\": 46.71784025384483, \"duration\": 43.59388888888889, \"Process_lot\": 8044300320.0}, {\"type\": \"shifted\", \"VCD\": 29.95723835885396, \"duration\": 22.324444444444445, \"Process_lot\": 8044300318.0}, {\"type\": \"shifted\", \"VCD\": 44.7579247473182, \"duration\": 64.60277777777777, \"Process_lot\": 8044300549.0}, {\"type\": \"shifted\", \"VCD\": 12.890001091139492, \"duration\": 0.2652777777777778, \"Process_lot\": 8044300334.0}, {\"type\": \"shifted\", \"VCD\": 48.36475002923845, \"duration\": 52.028055555555554, \"Process_lot\": 8044300319.0}, {\"type\": \"shifted\", \"VCD\": 29.977019247573438, \"duration\": 25.989722222222223, \"Process_lot\": 8044300329.0}, {\"type\": \"shifted\", \"VCD\": 47.260703566540215, \"duration\": 43.0275, \"Process_lot\": 8044300289.0}, {\"type\": \"shifted\", \"VCD\": 12.956622148055585, \"duration\": 0.22083333333333333, \"Process_lot\": 8044300228.0}, {\"type\": \"shifted\", \"VCD\": 46.55201561185682, \"duration\": 43.33861111111111, \"Process_lot\": 8044300309.0}, {\"type\": \"shifted\", \"VCD\": 29.83643219288169, \"duration\": 23.60611111111111, \"Process_lot\": 8044300327.0}, {\"type\": \"shifted\", \"VCD\": 48.82985227370665, \"duration\": 54.15027777777778, \"Process_lot\": 8044300289.0}, {\"type\": \"shifted\", \"VCD\": 29.95723835885396, \"duration\": 23.733055555555556, \"Process_lot\": 8044300226.0}, {\"type\": \"shifted\", \"VCD\": 30.23975448228403, \"duration\": 24.03611111111111, \"Process_lot\": 8044300260.0}, {\"type\": \"shifted\", \"VCD\": 47.62764361594896, \"duration\": 49.731944444444444, \"Process_lot\": 8044300318.0}, {\"type\": \"shifted\", \"VCD\": 48.82985227370665, \"duration\": 52.158055555555556, \"Process_lot\": 8044300336.0}, {\"type\": \"shifted\", \"VCD\": 46.864176801843215, \"duration\": 43.33777777777778, \"Process_lot\": 8044300322.0}, {\"type\": \"shifted\", \"VCD\": 47.88798218218584, \"duration\": 43.07277777777778, \"Process_lot\": 8044300345.0}, {\"type\": \"shifted\", \"VCD\": 46.55031819892898, \"duration\": 54.23722222222222, \"Process_lot\": 8044300337.0}, {\"type\": \"shifted\", \"VCD\": 30.13357005223984, \"duration\": 24.13, \"Process_lot\": 8044300289.0}, {\"type\": \"shifted\", \"VCD\": 13.257099387126122, \"duration\": 0.2972222222222222, \"Process_lot\": 8044300309.0}, {\"type\": \"shifted\", \"VCD\": 48.36475002923845, \"duration\": 53.158055555555556, \"Process_lot\": 8044300283.0}, {\"type\": \"shifted\", \"VCD\": 48.36475002923845, \"duration\": 46.492777777777775, \"Process_lot\": 8044300257.0}, {\"type\": \"shifted\", \"VCD\": 30.222419912107707, \"duration\": 26.470277777777778, \"Process_lot\": 8044300234.0}, {\"type\": \"shifted\", \"VCD\": 13.299444246445438, \"duration\": 0.3425, \"Process_lot\": 8044300549.0}, {\"type\": \"shifted\", \"VCD\": 29.558649674455346, \"duration\": 23.56861111111111, \"Process_lot\": 8044300328.0}, {\"type\": \"shifted\", \"VCD\": 46.19272234102033, \"duration\": 43.08361111111111, \"Process_lot\": 8044300316.0}, {\"type\": \"shifted\", \"VCD\": 47.260703566540215, \"duration\": 43.63361111111111, \"Process_lot\": 8044300286.0}, {\"type\": \"shifted\", \"VCD\": 29.9794410453434, \"duration\": 23.08888888888889, \"Process_lot\": 8044300264.0}, {\"type\": \"shifted\", \"VCD\": 30.765423902418725, \"duration\": 24.138055555555557, \"Process_lot\": 8044300281.0}, {\"type\": \"shifted\", \"VCD\": 13.257099387126122, \"duration\": 0.30972222222222223, \"Process_lot\": 8044300239.0}, {\"type\": \"shifted\", \"VCD\": 12.956622148055585, \"duration\": 0.20972222222222223, \"Process_lot\": 8044300237.0}, {\"type\": \"shifted\", \"VCD\": 46.61877382702333, \"duration\": 43.4475, \"Process_lot\": 8044300321.0}, {\"type\": \"shifted\", \"VCD\": 46.01284124097567, \"duration\": 55.2425, \"Process_lot\": 8044300226.0}, {\"type\": \"shifted\", \"VCD\": 46.456588040479815, \"duration\": 57.76166666666666, \"Process_lot\": 8044300327.0}, {\"type\": \"shifted\", \"VCD\": 47.88798218218584, \"duration\": 42.419444444444444, \"Process_lot\": 8044300337.0}, {\"type\": \"shifted\", \"VCD\": 46.19272234102033, \"duration\": 43.36833333333333, \"Process_lot\": 8044300281.0}, {\"type\": \"shifted\", \"VCD\": 12.815896757568956, \"duration\": 0.25083333333333335, \"Process_lot\": 8044300320.0}, {\"type\": \"shifted\", \"VCD\": 30.765423902418725, \"duration\": 23.82472222222222, \"Process_lot\": 8044300282.0}, {\"type\": \"shifted\", \"VCD\": 47.429818820245494, \"duration\": 47.45361111111111, \"Process_lot\": 8044300266.0}, {\"type\": \"shifted\", \"VCD\": 46.00425546664261, \"duration\": 57.81138888888889, \"Process_lot\": 8044300560.0}, {\"type\": \"shifted\", \"VCD\": 13.385311497595303, \"duration\": 0.6566666666666666, \"Process_lot\": 8044300256.0}, {\"type\": \"shifted\", \"VCD\": 47.88798218218584, \"duration\": 42.625277777777775, \"Process_lot\": 8044300334.0}, {\"type\": \"shifted\", \"VCD\": 46.456588040479815, \"duration\": 54.53861111111111, \"Process_lot\": 8044300275.0}, {\"type\": \"shifted\", \"VCD\": 44.7579247473182, \"duration\": 60.4025, \"Process_lot\": 8044300352.0}, {\"type\": \"shifted\", \"VCD\": 12.890001091139492, \"duration\": 0.24166666666666667, \"Process_lot\": 8044300345.0}, {\"type\": \"shifted\", \"VCD\": 30.13357005223984, \"duration\": 24.947777777777777, \"Process_lot\": 8044300307.0}, {\"type\": \"shifted\", \"VCD\": 12.92356789985917, \"duration\": 0.2713888888888889, \"Process_lot\": 8044300346.0}, {\"type\": \"shifted\", \"VCD\": 12.956622148055585, \"duration\": 0.2225, \"Process_lot\": 8044300273.0}, {\"type\": \"shifted\", \"VCD\": 29.95723835885396, \"duration\": 22.250833333333333, \"Process_lot\": 8044300237.0}, {\"type\": \"shifted\", \"VCD\": 30.13357005223984, \"duration\": 23.94527777777778, \"Process_lot\": 8044300290.0}, {\"type\": \"shifted\", \"VCD\": 46.19272234102033, \"duration\": 42.721111111111114, \"Process_lot\": 8044300273.0}]}}, {\"mode\": \"vega-lite\"});\n",
       "</script>"
      ],
      "text/plain": [
       "alt.Chart(...)"
      ]
     },
     "execution_count": 79,
     "metadata": {},
     "output_type": "execute_result"
    }
   ],
   "source": [
    "chart3 = alt.Chart(to_plot_x).mark_circle(size=60,).encode(\n",
    "    alt.X('duration', title='Cell Culture Duration (Hrs)'),\n",
    "    alt.Y('VCD',title='Viable Cell Density x 10 ^5'),\n",
    "    color = 'type',\n",
    "    tooltip = [\"type\", 'VCD', 'duration','Process_lot']\n",
    "\n",
    ").properties(\n",
    "    width=840,\n",
    "    height=400,\n",
    "    title='GradientBoostingRegressor [Dur, LAC] Shifting 24hrs'\n",
    ")\n",
    "sav = (chart3 ).interactive()\n",
    "\n",
    "sav"
   ]
  },
  {
   "cell_type": "markdown",
   "metadata": {},
   "source": [
    "# Training regressor with shifted data"
   ]
  },
  {
   "cell_type": "code",
   "execution_count": null,
   "metadata": {},
   "outputs": [],
   "source": []
  },
  {
   "cell_type": "markdown",
   "metadata": {},
   "source": [
    "### shifting stategy to create training dataset"
   ]
  },
  {
   "cell_type": "code",
   "execution_count": 80,
   "metadata": {},
   "outputs": [],
   "source": [
    "\n",
    "dfs = []\n",
    "final_df = final_df.sort_values(by='duration', ascending=True)\n",
    "\n",
    "for lot in final_df['Process_lot'].unique():\n",
    "    temp = final_df.copy()\n",
    "    temp = temp[temp['Process_lot']==lot]\n",
    "    temp['VCD'] = temp['VCD'].shift(1)\n",
    "\n",
    "    temp.reset_index(inplace=True)\n",
    "    \n",
    "    dfs.append(temp)\n",
    "    \n",
    "shifted_df = pd.concat(dfs)"
   ]
  },
  {
   "cell_type": "code",
   "execution_count": 81,
   "metadata": {},
   "outputs": [],
   "source": [
    "X = shifted_df.copy().select_dtypes(np.number).drop(columns='Total Density')\n",
    "X.dropna(axis=0,inplace=True)\n",
    "y = X.pop(\"VCD\")\n",
    "X.pop('PCO2 @ Temp')\n",
    "X.pop('PO2 @ Temp')\n",
    "X.pop('index')\n",
    "X['Process_lot'] = final_df['Process_lot']\n",
    "X.dropna(axis=0, inplace=True)\n",
    "y = y.dropna()\n",
    "X_train, X_test, y_train, y_test = train_test_split(X, y, random_state=0)"
   ]
  },
  {
   "cell_type": "code",
   "execution_count": 82,
   "metadata": {},
   "outputs": [],
   "source": [
    "def boost_regress():\n",
    "    from sklearn.ensemble import GradientBoostingClassifier\n",
    "    results = []\n",
    "    #for i in range(1,11):\n",
    "\n",
    "    clf = GradientBoostingRegressor(random_state=0,).fit(X_train, y_train)\n",
    "\n",
    "    results = (clf.score(X_train, y_train), clf.score(X_test, y_test))\n",
    "    return results"
   ]
  },
  {
   "cell_type": "code",
   "execution_count": 83,
   "metadata": {},
   "outputs": [
    {
     "data": {
      "text/plain": [
       "(0.9976444338564897, 0.7824947630158635)"
      ]
     },
     "execution_count": 83,
     "metadata": {},
     "output_type": "execute_result"
    }
   ],
   "source": [
    "boost_regress()"
   ]
  },
  {
   "cell_type": "code",
   "execution_count": 84,
   "metadata": {},
   "outputs": [],
   "source": [
    "clf_x = GradientBoostingRegressor(random_state=0,).fit(X_train, y_train)"
   ]
  },
  {
   "cell_type": "code",
   "execution_count": 85,
   "metadata": {},
   "outputs": [],
   "source": [
    "pred_x = pd.DataFrame({'type': 'predicted',\n",
    "                    \"VCD\":clf_x.predict(X_test),\n",
    "                    'duration': X_test['duration'],\n",
    "                       'Process_lot': X_test['Process_lot']\n",
    "                      })\n",
    "actual_x = pd.DataFrame({'type': 'actual',\n",
    "                    \"VCD\":y_test,\n",
    "                    'duration': X_test['duration'],\n",
    "                        'Process_lot': X_test['Process_lot']})\n",
    "\n",
    "\n",
    "to_plot_x = pd.concat([pred_x,actual_x])\n",
    "#to_plot_x['Process_lot'] = X_test['Process_lot']"
   ]
  },
  {
   "cell_type": "code",
   "execution_count": 86,
   "metadata": {},
   "outputs": [
    {
     "data": {
      "text/html": [
       "<div>\n",
       "<style scoped>\n",
       "    .dataframe tbody tr th:only-of-type {\n",
       "        vertical-align: middle;\n",
       "    }\n",
       "\n",
       "    .dataframe tbody tr th {\n",
       "        vertical-align: top;\n",
       "    }\n",
       "\n",
       "    .dataframe thead th {\n",
       "        text-align: right;\n",
       "    }\n",
       "</style>\n",
       "<table border=\"1\" class=\"dataframe\">\n",
       "  <thead>\n",
       "    <tr style=\"text-align: right;\">\n",
       "      <th></th>\n",
       "      <th>type</th>\n",
       "      <th>VCD</th>\n",
       "      <th>duration</th>\n",
       "      <th>Process_lot</th>\n",
       "    </tr>\n",
       "  </thead>\n",
       "  <tbody>\n",
       "    <tr>\n",
       "      <th>1</th>\n",
       "      <td>predicted</td>\n",
       "      <td>5.590323</td>\n",
       "      <td>24.708889</td>\n",
       "      <td>8044300219.0</td>\n",
       "    </tr>\n",
       "    <tr>\n",
       "      <th>2</th>\n",
       "      <td>predicted</td>\n",
       "      <td>23.051778</td>\n",
       "      <td>55.175833</td>\n",
       "      <td>8044300219.0</td>\n",
       "    </tr>\n",
       "    <tr>\n",
       "      <th>2</th>\n",
       "      <td>predicted</td>\n",
       "      <td>18.175574</td>\n",
       "      <td>43.181944</td>\n",
       "      <td>8044300219.0</td>\n",
       "    </tr>\n",
       "    <tr>\n",
       "      <th>4</th>\n",
       "      <td>predicted</td>\n",
       "      <td>25.137448</td>\n",
       "      <td>46.168611</td>\n",
       "      <td>8044300226.0</td>\n",
       "    </tr>\n",
       "    <tr>\n",
       "      <th>1</th>\n",
       "      <td>predicted</td>\n",
       "      <td>5.339526</td>\n",
       "      <td>23.305278</td>\n",
       "      <td>8044300219.0</td>\n",
       "    </tr>\n",
       "    <tr>\n",
       "      <th>...</th>\n",
       "      <td>...</td>\n",
       "      <td>...</td>\n",
       "      <td>...</td>\n",
       "      <td>...</td>\n",
       "    </tr>\n",
       "    <tr>\n",
       "      <th>1</th>\n",
       "      <td>actual</td>\n",
       "      <td>5.960000</td>\n",
       "      <td>21.846667</td>\n",
       "      <td>8044300219.0</td>\n",
       "    </tr>\n",
       "    <tr>\n",
       "      <th>1</th>\n",
       "      <td>actual</td>\n",
       "      <td>6.160000</td>\n",
       "      <td>23.176111</td>\n",
       "      <td>8044300219.0</td>\n",
       "    </tr>\n",
       "    <tr>\n",
       "      <th>2</th>\n",
       "      <td>actual</td>\n",
       "      <td>20.150000</td>\n",
       "      <td>43.083611</td>\n",
       "      <td>8044300219.0</td>\n",
       "    </tr>\n",
       "    <tr>\n",
       "      <th>1</th>\n",
       "      <td>actual</td>\n",
       "      <td>5.220000</td>\n",
       "      <td>23.088889</td>\n",
       "      <td>8044300219.0</td>\n",
       "    </tr>\n",
       "    <tr>\n",
       "      <th>1</th>\n",
       "      <td>actual</td>\n",
       "      <td>7.450000</td>\n",
       "      <td>22.515833</td>\n",
       "      <td>8044300219.0</td>\n",
       "    </tr>\n",
       "  </tbody>\n",
       "</table>\n",
       "<p>84 rows × 4 columns</p>\n",
       "</div>"
      ],
      "text/plain": [
       "         type        VCD   duration   Process_lot\n",
       "1   predicted   5.590323  24.708889  8044300219.0\n",
       "2   predicted  23.051778  55.175833  8044300219.0\n",
       "2   predicted  18.175574  43.181944  8044300219.0\n",
       "4   predicted  25.137448  46.168611  8044300226.0\n",
       "1   predicted   5.339526  23.305278  8044300219.0\n",
       "..        ...        ...        ...           ...\n",
       "1      actual   5.960000  21.846667  8044300219.0\n",
       "1      actual   6.160000  23.176111  8044300219.0\n",
       "2      actual  20.150000  43.083611  8044300219.0\n",
       "1      actual   5.220000  23.088889  8044300219.0\n",
       "1      actual   7.450000  22.515833  8044300219.0\n",
       "\n",
       "[84 rows x 4 columns]"
      ]
     },
     "execution_count": 86,
     "metadata": {},
     "output_type": "execute_result"
    }
   ],
   "source": [
    "to_plot_x"
   ]
  },
  {
   "cell_type": "code",
   "execution_count": 87,
   "metadata": {},
   "outputs": [
    {
     "data": {
      "text/html": [
       "\n",
       "<div id=\"altair-viz-297da00a8865487e96e91637bf6e18da\"></div>\n",
       "<script type=\"text/javascript\">\n",
       "  (function(spec, embedOpt){\n",
       "    let outputDiv = document.currentScript.previousElementSibling;\n",
       "    if (outputDiv.id !== \"altair-viz-297da00a8865487e96e91637bf6e18da\") {\n",
       "      outputDiv = document.getElementById(\"altair-viz-297da00a8865487e96e91637bf6e18da\");\n",
       "    }\n",
       "    const paths = {\n",
       "      \"vega\": \"https://cdn.jsdelivr.net/npm//vega@5?noext\",\n",
       "      \"vega-lib\": \"https://cdn.jsdelivr.net/npm//vega-lib?noext\",\n",
       "      \"vega-lite\": \"https://cdn.jsdelivr.net/npm//vega-lite@4.8.1?noext\",\n",
       "      \"vega-embed\": \"https://cdn.jsdelivr.net/npm//vega-embed@6?noext\",\n",
       "    };\n",
       "\n",
       "    function loadScript(lib) {\n",
       "      return new Promise(function(resolve, reject) {\n",
       "        var s = document.createElement('script');\n",
       "        s.src = paths[lib];\n",
       "        s.async = true;\n",
       "        s.onload = () => resolve(paths[lib]);\n",
       "        s.onerror = () => reject(`Error loading script: ${paths[lib]}`);\n",
       "        document.getElementsByTagName(\"head\")[0].appendChild(s);\n",
       "      });\n",
       "    }\n",
       "\n",
       "    function showError(err) {\n",
       "      outputDiv.innerHTML = `<div class=\"error\" style=\"color:red;\">${err}</div>`;\n",
       "      throw err;\n",
       "    }\n",
       "\n",
       "    function displayChart(vegaEmbed) {\n",
       "      vegaEmbed(outputDiv, spec, embedOpt)\n",
       "        .catch(err => showError(`Javascript Error: ${err.message}<br>This usually means there's a typo in your chart specification. See the javascript console for the full traceback.`));\n",
       "    }\n",
       "\n",
       "    if(typeof define === \"function\" && define.amd) {\n",
       "      requirejs.config({paths});\n",
       "      require([\"vega-embed\"], displayChart, err => showError(`Error loading script: ${err.message}`));\n",
       "    } else if (typeof vegaEmbed === \"function\") {\n",
       "      displayChart(vegaEmbed);\n",
       "    } else {\n",
       "      loadScript(\"vega\")\n",
       "        .then(() => loadScript(\"vega-lite\"))\n",
       "        .then(() => loadScript(\"vega-embed\"))\n",
       "        .catch(showError)\n",
       "        .then(() => displayChart(vegaEmbed));\n",
       "    }\n",
       "  })({\"config\": {\"view\": {\"continuousWidth\": 400, \"continuousHeight\": 300}}, \"data\": {\"name\": \"data-31a13feaaa6429975a52f716e050ca1d\"}, \"mark\": {\"type\": \"circle\", \"size\": 60}, \"encoding\": {\"color\": {\"type\": \"nominal\", \"field\": \"type\"}, \"tooltip\": [{\"type\": \"nominal\", \"field\": \"type\"}, {\"type\": \"quantitative\", \"field\": \"VCD\"}, {\"type\": \"quantitative\", \"field\": \"duration\"}, {\"type\": \"nominal\", \"field\": \"Process_lot\"}], \"x\": {\"type\": \"quantitative\", \"field\": \"duration\", \"title\": \"Cell Culture Duration (Hrs)\"}, \"y\": {\"type\": \"quantitative\", \"field\": \"VCD\", \"title\": \"Viable Cell Density x 10 ^5\"}}, \"height\": 400, \"selection\": {\"selector005\": {\"type\": \"interval\", \"bind\": \"scales\", \"encodings\": [\"x\", \"y\"]}}, \"title\": \"GradientBoostingRegressor Shifting\", \"width\": 840, \"$schema\": \"https://vega.github.io/schema/vega-lite/v4.8.1.json\", \"datasets\": {\"data-31a13feaaa6429975a52f716e050ca1d\": [{\"type\": \"predicted\", \"VCD\": 5.59032256112265, \"duration\": 24.70888888888889, \"Process_lot\": \"8044300219.0\"}, {\"type\": \"predicted\", \"VCD\": 23.051778396287304, \"duration\": 55.17583333333334, \"Process_lot\": \"8044300219.0\"}, {\"type\": \"predicted\", \"VCD\": 18.175573713164862, \"duration\": 43.18194444444445, \"Process_lot\": \"8044300219.0\"}, {\"type\": \"predicted\", \"VCD\": 25.137448202477422, \"duration\": 46.16861111111111, \"Process_lot\": \"8044300226.0\"}, {\"type\": \"predicted\", \"VCD\": 5.339525680349875, \"duration\": 23.30527777777778, \"Process_lot\": \"8044300219.0\"}, {\"type\": \"predicted\", \"VCD\": 22.95210126412515, \"duration\": 55.37, \"Process_lot\": \"8044300219.0\"}, {\"type\": \"predicted\", \"VCD\": 5.6313380765892855, \"duration\": 22.150555555555556, \"Process_lot\": \"8044300219.0\"}, {\"type\": \"predicted\", \"VCD\": 13.521047497708157, \"duration\": 42.80833333333333, \"Process_lot\": \"8044300219.0\"}, {\"type\": \"predicted\", \"VCD\": 17.104209955247775, \"duration\": 50.98166666666667, \"Process_lot\": \"8044300219.0\"}, {\"type\": \"predicted\", \"VCD\": 20.299136739366265, \"duration\": 45.937777777777775, \"Process_lot\": \"8044300219.0\"}, {\"type\": \"predicted\", \"VCD\": 27.191818789063127, \"duration\": 58.22833333333333, \"Process_lot\": \"8044300219.0\"}, {\"type\": \"predicted\", \"VCD\": 5.735973691793124, \"duration\": 24.115555555555556, \"Process_lot\": \"8044300219.0\"}, {\"type\": \"predicted\", \"VCD\": 5.613821232406211, \"duration\": 24.208055555555557, \"Process_lot\": \"8044300219.0\"}, {\"type\": \"predicted\", \"VCD\": 25.95352059898264, \"duration\": 49.52861111111111, \"Process_lot\": \"8044300219.0\"}, {\"type\": \"predicted\", \"VCD\": 6.0085551091988565, \"duration\": 23.189722222222223, \"Process_lot\": \"8044300219.0\"}, {\"type\": \"predicted\", \"VCD\": 29.952387011217535, \"duration\": 53.701388888888886, \"Process_lot\": \"8044300219.0\"}, {\"type\": \"predicted\", \"VCD\": 16.912893805220822, \"duration\": 42.798611111111114, \"Process_lot\": \"8044300219.0\"}, {\"type\": \"predicted\", \"VCD\": 7.667154949750183, \"duration\": 23.733055555555556, \"Process_lot\": \"8044300219.0\"}, {\"type\": \"predicted\", \"VCD\": 14.505447689694224, \"duration\": 43.52194444444444, \"Process_lot\": \"8044300219.0\"}, {\"type\": \"predicted\", \"VCD\": 23.759088333439376, \"duration\": 55.82472222222222, \"Process_lot\": \"8044300219.0\"}, {\"type\": \"predicted\", \"VCD\": 25.25797775302517, \"duration\": 52.158055555555556, \"Process_lot\": \"8044300219.0\"}, {\"type\": \"predicted\", \"VCD\": 13.096291333531314, \"duration\": 42.710277777777776, \"Process_lot\": \"8044300219.0\"}, {\"type\": \"predicted\", \"VCD\": 20.84329374436987, \"duration\": 47.06027777777778, \"Process_lot\": \"8044300219.0\"}, {\"type\": \"predicted\", \"VCD\": 6.249426925263231, \"duration\": 22.915277777777778, \"Process_lot\": \"8044300219.0\"}, {\"type\": \"predicted\", \"VCD\": 5.931932299980232, \"duration\": 24.136111111111113, \"Process_lot\": \"8044300219.0\"}, {\"type\": \"predicted\", \"VCD\": 13.410119250104405, \"duration\": 43.12972222222222, \"Process_lot\": \"8044300219.0\"}, {\"type\": \"predicted\", \"VCD\": 7.721967798670641, \"duration\": 23.60611111111111, \"Process_lot\": \"8044300219.0\"}, {\"type\": \"predicted\", \"VCD\": 39.765567208617014, \"duration\": 67.27555555555556, \"Process_lot\": \"8044300226.0\"}, {\"type\": \"predicted\", \"VCD\": 7.8358055574259025, \"duration\": 25.989722222222223, \"Process_lot\": \"8044300219.0\"}, {\"type\": \"predicted\", \"VCD\": 21.570830654686617, \"duration\": 51.21944444444444, \"Process_lot\": \"8044300219.0\"}, {\"type\": \"predicted\", \"VCD\": 19.019406446995315, \"duration\": 50.86888888888889, \"Process_lot\": \"8044300219.0\"}, {\"type\": \"predicted\", \"VCD\": 6.827126011415197, \"duration\": 24.138055555555557, \"Process_lot\": \"8044300219.0\"}, {\"type\": \"predicted\", \"VCD\": 8.8316262086432, \"duration\": 25.411944444444444, \"Process_lot\": \"8044300219.0\"}, {\"type\": \"predicted\", \"VCD\": 5.895875860033519, \"duration\": 22.7525, \"Process_lot\": \"8044300219.0\"}, {\"type\": \"predicted\", \"VCD\": 13.948844740887298, \"duration\": 43.59388888888889, \"Process_lot\": \"8044300219.0\"}, {\"type\": \"predicted\", \"VCD\": 17.568528305663417, \"duration\": 43.95638888888889, \"Process_lot\": \"8044300219.0\"}, {\"type\": \"predicted\", \"VCD\": 8.357811653890778, \"duration\": 23.82472222222222, \"Process_lot\": \"8044300219.0\"}, {\"type\": \"predicted\", \"VCD\": 6.1423926130128494, \"duration\": 21.846666666666668, \"Process_lot\": \"8044300219.0\"}, {\"type\": \"predicted\", \"VCD\": 6.789503728764961, \"duration\": 23.176111111111112, \"Process_lot\": \"8044300219.0\"}, {\"type\": \"predicted\", \"VCD\": 14.278497488881158, \"duration\": 43.08361111111111, \"Process_lot\": \"8044300219.0\"}, {\"type\": \"predicted\", \"VCD\": 6.336246265568843, \"duration\": 23.08888888888889, \"Process_lot\": \"8044300219.0\"}, {\"type\": \"predicted\", \"VCD\": 6.532724159307103, \"duration\": 22.515833333333333, \"Process_lot\": \"8044300219.0\"}, {\"type\": \"actual\", \"VCD\": 5.97, \"duration\": 24.70888888888889, \"Process_lot\": \"8044300219.0\"}, {\"type\": \"actual\", \"VCD\": 14.46, \"duration\": 55.17583333333334, \"Process_lot\": \"8044300219.0\"}, {\"type\": \"actual\", \"VCD\": 15.58, \"duration\": 43.18194444444445, \"Process_lot\": \"8044300219.0\"}, {\"type\": \"actual\", \"VCD\": 34.91, \"duration\": 46.16861111111111, \"Process_lot\": \"8044300226.0\"}, {\"type\": \"actual\", \"VCD\": 6.15, \"duration\": 23.30527777777778, \"Process_lot\": \"8044300219.0\"}, {\"type\": \"actual\", \"VCD\": 26.34, \"duration\": 55.37, \"Process_lot\": \"8044300219.0\"}, {\"type\": \"actual\", \"VCD\": 6.16, \"duration\": 22.150555555555556, \"Process_lot\": \"8044300219.0\"}, {\"type\": \"actual\", \"VCD\": 13.77, \"duration\": 42.80833333333333, \"Process_lot\": \"8044300219.0\"}, {\"type\": \"actual\", \"VCD\": 32.25, \"duration\": 50.98166666666667, \"Process_lot\": \"8044300219.0\"}, {\"type\": \"actual\", \"VCD\": 13.73, \"duration\": 45.937777777777775, \"Process_lot\": \"8044300219.0\"}, {\"type\": \"actual\", \"VCD\": 23.15, \"duration\": 58.22833333333333, \"Process_lot\": \"8044300219.0\"}, {\"type\": \"actual\", \"VCD\": 4.97, \"duration\": 24.115555555555556, \"Process_lot\": \"8044300219.0\"}, {\"type\": \"actual\", \"VCD\": 5.04, \"duration\": 24.208055555555557, \"Process_lot\": \"8044300219.0\"}, {\"type\": \"actual\", \"VCD\": 15.61, \"duration\": 49.52861111111111, \"Process_lot\": \"8044300219.0\"}, {\"type\": \"actual\", \"VCD\": 6.5, \"duration\": 23.189722222222223, \"Process_lot\": \"8044300219.0\"}, {\"type\": \"actual\", \"VCD\": 32.94, \"duration\": 53.701388888888886, \"Process_lot\": \"8044300219.0\"}, {\"type\": \"actual\", \"VCD\": 15.35, \"duration\": 42.798611111111114, \"Process_lot\": \"8044300219.0\"}, {\"type\": \"actual\", \"VCD\": 4.67, \"duration\": 23.733055555555556, \"Process_lot\": \"8044300219.0\"}, {\"type\": \"actual\", \"VCD\": 12.27, \"duration\": 43.52194444444444, \"Process_lot\": \"8044300219.0\"}, {\"type\": \"actual\", \"VCD\": 23.42, \"duration\": 55.82472222222222, \"Process_lot\": \"8044300219.0\"}, {\"type\": \"actual\", \"VCD\": 28.1, \"duration\": 52.158055555555556, \"Process_lot\": \"8044300219.0\"}, {\"type\": \"actual\", \"VCD\": 15.56, \"duration\": 42.710277777777776, \"Process_lot\": \"8044300219.0\"}, {\"type\": \"actual\", \"VCD\": 18.83, \"duration\": 47.06027777777778, \"Process_lot\": \"8044300219.0\"}, {\"type\": \"actual\", \"VCD\": 6.27, \"duration\": 22.915277777777778, \"Process_lot\": \"8044300219.0\"}, {\"type\": \"actual\", \"VCD\": 6.04, \"duration\": 24.136111111111113, \"Process_lot\": \"8044300219.0\"}, {\"type\": \"actual\", \"VCD\": 15.54, \"duration\": 43.12972222222222, \"Process_lot\": \"8044300219.0\"}, {\"type\": \"actual\", \"VCD\": 5.44, \"duration\": 23.60611111111111, \"Process_lot\": \"8044300219.0\"}, {\"type\": \"actual\", \"VCD\": 41.25, \"duration\": 67.27555555555556, \"Process_lot\": \"8044300226.0\"}, {\"type\": \"actual\", \"VCD\": 5.65, \"duration\": 25.989722222222223, \"Process_lot\": \"8044300219.0\"}, {\"type\": \"actual\", \"VCD\": 15.15, \"duration\": 51.21944444444444, \"Process_lot\": \"8044300219.0\"}, {\"type\": \"actual\", \"VCD\": 16.4, \"duration\": 50.86888888888889, \"Process_lot\": \"8044300219.0\"}, {\"type\": \"actual\", \"VCD\": 6.13, \"duration\": 24.138055555555557, \"Process_lot\": \"8044300219.0\"}, {\"type\": \"actual\", \"VCD\": 6.45, \"duration\": 25.411944444444444, \"Process_lot\": \"8044300219.0\"}, {\"type\": \"actual\", \"VCD\": 5.32, \"duration\": 22.7525, \"Process_lot\": \"8044300219.0\"}, {\"type\": \"actual\", \"VCD\": 4.77, \"duration\": 43.59388888888889, \"Process_lot\": \"8044300219.0\"}, {\"type\": \"actual\", \"VCD\": 21.61, \"duration\": 43.95638888888889, \"Process_lot\": \"8044300219.0\"}, {\"type\": \"actual\", \"VCD\": 5.44, \"duration\": 23.82472222222222, \"Process_lot\": \"8044300219.0\"}, {\"type\": \"actual\", \"VCD\": 5.96, \"duration\": 21.846666666666668, \"Process_lot\": \"8044300219.0\"}, {\"type\": \"actual\", \"VCD\": 6.16, \"duration\": 23.176111111111112, \"Process_lot\": \"8044300219.0\"}, {\"type\": \"actual\", \"VCD\": 20.15, \"duration\": 43.08361111111111, \"Process_lot\": \"8044300219.0\"}, {\"type\": \"actual\", \"VCD\": 5.22, \"duration\": 23.08888888888889, \"Process_lot\": \"8044300219.0\"}, {\"type\": \"actual\", \"VCD\": 7.45, \"duration\": 22.515833333333333, \"Process_lot\": \"8044300219.0\"}]}}, {\"mode\": \"vega-lite\"});\n",
       "</script>"
      ],
      "text/plain": [
       "alt.Chart(...)"
      ]
     },
     "execution_count": 87,
     "metadata": {},
     "output_type": "execute_result"
    }
   ],
   "source": [
    "chart3 = alt.Chart(to_plot_x).mark_circle(size=60,).encode(\n",
    "    alt.X('duration', title='Cell Culture Duration (Hrs)'),\n",
    "    alt.Y('VCD',title='Viable Cell Density x 10 ^5'),\n",
    "    color = 'type',\n",
    "    tooltip = [\"type\", 'VCD', 'duration', 'Process_lot']\n",
    "\n",
    ").properties(\n",
    "    width=840,\n",
    "    height=400,\n",
    "    title='GradientBoostingRegressor Shifting'\n",
    ")\n",
    "sav = (chart3 ).interactive()\n",
    "\n",
    "sav"
   ]
  },
  {
   "cell_type": "code",
   "execution_count": null,
   "metadata": {},
   "outputs": [],
   "source": []
  },
  {
   "cell_type": "code",
   "execution_count": 88,
   "metadata": {},
   "outputs": [],
   "source": [
    "features = mi_scores.index[0:8].to_list()\n",
    "features.append('Process_lot')"
   ]
  },
  {
   "cell_type": "code",
   "execution_count": 90,
   "metadata": {},
   "outputs": [
    {
     "data": {
      "text/plain": [
       "duration                 0.880069\n",
       "NH4+                     0.724325\n",
       "Gluc                     0.652551\n",
       "PO2                      0.424547\n",
       "Gln                      0.254012\n",
       "level_0                  0.158730\n",
       "Ca++                     0.064373\n",
       "Vessel Pressure (psi)    0.000000\n",
       "Name: MI Scores, dtype: float64"
      ]
     },
     "execution_count": 90,
     "metadata": {},
     "output_type": "execute_result"
    }
   ],
   "source": [
    "from sklearn.feature_selection import mutual_info_regression\n",
    "\n",
    "def make_mi_scores(X, y):\n",
    "    mi_scores = mutual_info_regression(X, y)\n",
    "    mi_scores = pd.Series(mi_scores, name=\"MI Scores\", index=X.columns)\n",
    "    mi_scores = mi_scores.sort_values(ascending=False)\n",
    "    return mi_scores\n",
    "\n",
    "mi_scores = make_mi_scores(X, y)\n",
    "mi_scores[::3]  # show a few features with their MI scores"
   ]
  },
  {
   "cell_type": "code",
   "execution_count": 91,
   "metadata": {},
   "outputs": [
    {
     "data": {
      "image/png": "[encoded data removed]",
      "text/plain": [
       "<Figure size 800x500 with 1 Axes>"
      ]
     },
     "metadata": {
      "needs_background": "light"
     },
     "output_type": "display_data"
    }
   ],
   "source": [
    "import matplotlib.pyplot as plt\n",
    "%matplotlib inline\n",
    "def plot_mi_scores(scores):\n",
    "    import matplotlib.pyplot as plt\n",
    "    scores = scores.sort_values(ascending=True)\n",
    "    width = np.arange(len(scores))\n",
    "    ticks = list(scores.index)\n",
    "    plt.barh(width, scores)\n",
    "    plt.yticks(width, ticks)\n",
    "    plt.title(\"Mutual Information Scores\")\n",
    "\n",
    "\n",
    "plt.figure(dpi=100, figsize=(8, 5))\n",
    "plot_mi_scores(mi_scores)"
   ]
  },
  {
   "cell_type": "code",
   "execution_count": 92,
   "metadata": {},
   "outputs": [
    {
     "data": {
      "text/plain": [
       "20.161392620195652"
      ]
     },
     "execution_count": 92,
     "metadata": {},
     "output_type": "execute_result"
    }
   ],
   "source": [
    "mean_squared_error(clf_x.predict(X_test), y_test)"
   ]
  },
  {
   "cell_type": "code",
   "execution_count": null,
   "metadata": {},
   "outputs": [],
   "source": []
  }
 ],
 "metadata": {
  "kernelspec": {
   "display_name": "Python 3",
   "language": "python",
   "name": "python3"
  },
  "language_info": {
   "codemirror_mode": {
    "name": "ipython",
    "version": 3
   },
   "file_extension": ".py",
   "mimetype": "text/x-python",
   "name": "python",
   "nbconvert_exporter": "python",
   "pygments_lexer": "ipython3",
   "version": "3.7.3"
  }
 },
 "nbformat": 4,
 "nbformat_minor": 4
}
